{
 "cells": [
  {
   "cell_type": "code",
   "execution_count": 6,
   "id": "23fbaacb",
   "metadata": {},
   "outputs": [],
   "source": [
    "import pickle\n",
    "import pandas as pd\n",
    "import numpy as np"
   ]
  },
  {
   "cell_type": "code",
   "execution_count": 7,
   "id": "1c2c35e6",
   "metadata": {},
   "outputs": [
    {
     "name": "stdout",
     "output_type": "stream",
     "text": [
      "convert_pickle_to_text.ipynb            twiss_l.pkl\r\n",
      "find_beta_functions_at_locations.ipynb  twiss_name.pkl\r\n",
      "twiss_Dx.pkl                            twiss_name.txt\r\n",
      "twiss_betx.pkl                          twiss_s.pkl\r\n",
      "twiss_bety.pkl\r\n"
     ]
    }
   ],
   "source": [
    "ls"
   ]
  },
  {
   "cell_type": "code",
   "execution_count": 8,
   "id": "b889aff8",
   "metadata": {},
   "outputs": [],
   "source": [
    "names_list = pd.read_pickle('twiss_name.pkl')\n",
    "betay_list = pd.read_pickle('twiss_bety.pkl')\n",
    "betax_list = pd.read_pickle('twiss_betx.pkl')"
   ]
  },
  {
   "cell_type": "markdown",
   "id": "8c2d4b8c",
   "metadata": {},
   "source": [
    "you can find the code names of the elements in the following website: https://layout.cern.ch/reports/mad?fileType=STANDARD&machineId=2180065&versionId=34464591"
   ]
  },
  {
   "cell_type": "code",
   "execution_count": 11,
   "id": "859a1da4",
   "metadata": {},
   "outputs": [],
   "source": [
    "index_init, index_cc1, index_cc2, index_ht, index_wsh, index_wsv = np.where(names_list =='mystart:1'), np.where(names_list =='cravity.1:1'), np.where(names_list =='cravity.2:1'), np.where(names_list == 'bpcl.42171:1'), np.where(names_list=='bwsrc.51637:1'), np.where(names_list=='bwsrc.41677:1') "
   ]
  },
  {
   "cell_type": "code",
   "execution_count": 16,
   "id": "a2f03523",
   "metadata": {},
   "outputs": [],
   "source": [
    "betay_init, betay_cc1, betay_cc2, betay_ht, betay_wsh, betay_wsv = betay_list[index_init], betay_list[index_cc1], betay_list[index_cc2], betay_list[index_ht], betay_list[index_wsh], betay_list[index_wsv]\n",
    "betax_init, betax_cc1, betax_cc2, betax_ht, betax_wsh, betax_wsv = betax_list[index_init], betax_list[index_cc1], betax_list[index_cc2], betax_list[index_ht], betax_list[index_wsh], betax_list[index_wsv]"
   ]
  },
  {
   "cell_type": "code",
   "execution_count": 18,
   "id": "0dc7300f",
   "metadata": {},
   "outputs": [
    {
     "name": "stdout",
     "output_type": "stream",
     "text": [
      "[27.50595043] [60.75198776]\n",
      "[79.29789638] [37.54877681]\n"
     ]
    }
   ],
   "source": [
    "print(betay_wsh, betay_wsv)\n",
    "print(betax_wsh, betax_wsv)"
   ]
  },
  {
   "cell_type": "code",
   "execution_count": null,
   "id": "cdd43bba",
   "metadata": {},
   "outputs": [],
   "source": []
  },
  {
   "cell_type": "code",
   "execution_count": null,
   "id": "aa0f4520",
   "metadata": {},
   "outputs": [],
   "source": [
    "'''\n",
    "betay_init, betay_cc1, betay_cc2, betay_ht = twtable.bety[index_init], twtable.bety[index_cc1], twtable.bety[index_cc2], twtable.bety[index_ht]\n",
    "betax_init, betax_cc1, betax_cc2, betax_ht = twtable.betx[index_init], twtable.betx[index_cc1], twtable.betx[index_cc2], twtable.betx[index_ht]\n",
    "mux_init, mux_cc1, mux_cc2, mux_ht =  twtable.mux[index_init],  twtable.mux[index_cc1],  twtable.mux[index_cc2], twtable.mux[index_ht]\n",
    "muy_init, muy_cc1, muy_cc2, muy_ht =  twtable.muy[index_init],  twtable.muy[index_cc1],  twtable.muy[index_cc2], twtable.muy[index_ht]\n",
    "alphay_init, alphay_cc1, alphay_cc2, alphay_ht = twtable.alfy[index_init], twtable.alfy[index_cc1], twtable.alfy[index_cc2], twtable.alfy[index_ht]\n",
    "alphax_init, alphax_cc1, alphax_cc2, alphax_ht = twtable.alfx[index_init], twtable.alfx[index_cc1], twtable.alfx[index_cc2], twtable.alfx[index_ht]\n",
    "dx_init, dx_cc1, dx_cc2, dx_ht = twtable.dx[index_init], twtable.dx[index_cc1], twtable.dx[index_cc2], twtable.dx[index_ht]\n",
    "dy_init, dy_cc1, dy_cc2, dy_ht = twtable.dy[index_init], twtable.dy[index_cc1], twtable.dy[index_cc2], twtable.dy[index_ht]\n",
    "'''"
   ]
  }
 ],
 "metadata": {
  "kernelspec": {
   "display_name": "Python 3 (ipykernel)",
   "language": "python",
   "name": "python3"
  },
  "language_info": {
   "codemirror_mode": {
    "name": "ipython",
    "version": 3
   },
   "file_extension": ".py",
   "mimetype": "text/x-python",
   "name": "python",
   "nbconvert_exporter": "python",
   "pygments_lexer": "ipython3",
   "version": "3.7.11"
  }
 },
 "nbformat": 4,
 "nbformat_minor": 5
}
