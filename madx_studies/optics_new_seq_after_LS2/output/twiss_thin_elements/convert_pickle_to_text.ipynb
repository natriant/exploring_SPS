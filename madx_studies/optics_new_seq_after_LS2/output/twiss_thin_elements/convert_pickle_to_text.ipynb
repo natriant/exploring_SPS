{
 "cells": [
  {
   "cell_type": "code",
   "execution_count": 5,
   "id": "f55f97c4",
   "metadata": {},
   "outputs": [],
   "source": [
    "import pickle\n",
    "import pandas as pd"
   ]
  },
  {
   "cell_type": "code",
   "execution_count": 6,
   "id": "4ac46909",
   "metadata": {},
   "outputs": [
    {
     "name": "stdout",
     "output_type": "stream",
     "text": [
      "print_content_of_pickle_files.ipynb  twiss_l.pkl\r\n",
      "twiss_Dx.pkl                         twiss_name.pkl\r\n",
      "twiss_betx.pkl                       twiss_s.pkl\r\n",
      "twiss_bety.pkl\r\n"
     ]
    }
   ],
   "source": [
    "ls"
   ]
  },
  {
   "cell_type": "code",
   "execution_count": 9,
   "id": "16644e8b",
   "metadata": {},
   "outputs": [],
   "source": [
    "names_list = pd.read_pickle('twiss_name.pkl')"
   ]
  },
  {
   "cell_type": "code",
   "execution_count": 13,
   "id": "a52529ce",
   "metadata": {},
   "outputs": [],
   "source": [
    "textfile = open(\"twiss_name.txt\", \"w\")\n",
    "for element in names_list:\n",
    "    textfile.write(element + \"\\n\")\n",
    "textfile.close()"
   ]
  },
  {
   "cell_type": "code",
   "execution_count": null,
   "id": "389fa920",
   "metadata": {},
   "outputs": [],
   "source": []
  }
 ],
 "metadata": {
  "kernelspec": {
   "display_name": "Python 3 (ipykernel)",
   "language": "python",
   "name": "python3"
  },
  "language_info": {
   "codemirror_mode": {
    "name": "ipython",
    "version": 3
   },
   "file_extension": ".py",
   "mimetype": "text/x-python",
   "name": "python",
   "nbconvert_exporter": "python",
   "pygments_lexer": "ipython3",
   "version": "3.7.11"
  }
 },
 "nbformat": 4,
 "nbformat_minor": 5
}
