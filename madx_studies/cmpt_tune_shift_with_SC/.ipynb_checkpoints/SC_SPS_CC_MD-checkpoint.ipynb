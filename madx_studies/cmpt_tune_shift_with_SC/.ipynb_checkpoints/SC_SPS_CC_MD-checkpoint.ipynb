{
 "cells": [
  {
   "cell_type": "markdown",
   "id": "190d953c",
   "metadata": {},
   "source": [
    "### Compute tune shift from space charge\n",
    "\n",
    "Compute the incoherent tune shift due to direct space charge, assuming gaussian distribution for all planes and zero vertical dispersion.\n",
    "\n",
    "Eq. (4.18a) and (4.18b) from Hannes thesis: https://cds.cern.ch/record/1644761/files/CERN-THESIS-2013-257.pdf"
   ]
  },
  {
   "cell_type": "code",
   "execution_count": 38,
   "id": "b87ff7e5",
   "metadata": {},
   "outputs": [],
   "source": [
    "from scipy import integrate\n",
    "from scipy import interpolate\n",
    "import numpy as np\n",
    "import pickle"
   ]
  },
  {
   "cell_type": "code",
   "execution_count": 2,
   "id": "215f986c",
   "metadata": {},
   "outputs": [],
   "source": [
    "def EnergySpread(Circumferance, Harmonic_Num, Energy_total, SlipF, BL, beta_rel, RF_Voltage, Energy_loss, Z):\n",
    "    '~~~ from Wiedermanns book ~~~'\n",
    "    return BL / (Circumferance * np.sqrt(SlipF * Energy_total / (2 * np.pi * beta_rel * Harmonic_Num * np.sqrt(Z**2 * RF_Voltage**2 - Energy_loss**2))))"
   ]
  },
  {
   "cell_type": "code",
   "execution_count": 27,
   "id": "f4642622",
   "metadata": {},
   "outputs": [],
   "source": [
    "# Beam parameters\n",
    "m0 = 0.9382720813e9 # proton rest mass, [eV/c^2] \n",
    "E_0 = 200e9\n",
    "N = 3e10 # ppb\n",
    "ex_norm, ey_norm = 2e-6, 2e-6 # m\n",
    "rp = 1.535 * 10 ** (-18) # the clasical proton radius [m]\n",
    "sigma_z = 0.157 # rms bunch length in [m]"
   ]
  },
  {
   "cell_type": "code",
   "execution_count": 28,
   "id": "f6d9f1fe",
   "metadata": {},
   "outputs": [
    {
     "name": "stdout",
     "output_type": "stream",
     "text": [
      "213.15778651635344 0.9999889955082187\n"
     ]
    }
   ],
   "source": [
    "# Compute relativistic parameters\n",
    "E_rest = m0 # [eV]\n",
    "gamma_0 =  E_0/E_rest # gamma realtivistic of the reference particle  \n",
    "beta_0 = np.sqrt(1-1/gamma_0**2) # beta realtivistic of the reference particle\n",
    "print(gamma_0, beta_0)"
   ]
  },
  {
   "cell_type": "code",
   "execution_count": 29,
   "id": "3e993520",
   "metadata": {},
   "outputs": [
    {
     "name": "stdout",
     "output_type": "stream",
     "text": [
      "0.00038702198282822373\n"
     ]
    }
   ],
   "source": [
    "# Machine parameters, needed for the energy spread computation\n",
    "h = 4620 # harmonic\n",
    "C0 = 6911.5038 # SPS circumference [m]  \n",
    "slipF = 0.0019\n",
    "Vrf = 3.8e6 # V\n",
    "U0 = 0 # energy losses\n",
    "Z = 1  # for protong\n",
    "delta_rms = EnergySpread(C0, h, E_0, slipF, sigma_z, beta_0, Vrf, U0, Z)\n",
    "print(delta_rms)"
   ]
  },
  {
   "cell_type": "code",
   "execution_count": 30,
   "id": "84b4c613",
   "metadata": {},
   "outputs": [
    {
     "name": "stdout",
     "output_type": "stream",
     "text": [
      "9.382824066210321e-09 9.382824066210321e-09\n"
     ]
    }
   ],
   "source": [
    "# compute geometric emittance\n",
    "ex_geom = ex_norm/(beta_0*gamma_0)\n",
    "ey_geom = ey_norm/(beta_0*gamma_0)\n",
    "print(ex_geom, ey_geom) # m"
   ]
  },
  {
   "cell_type": "code",
   "execution_count": 31,
   "id": "f3b71135",
   "metadata": {},
   "outputs": [
    {
     "name": "stdout",
     "output_type": "stream",
     "text": [
      "6533\n"
     ]
    }
   ],
   "source": [
    "# Import SPS optics\n",
    "betx = pickle.load(open('../optics_new_seq_after_LS2/twiss_betx.pkl', 'rb'))\n",
    "bety = pickle.load(open('../optics_new_seq_after_LS2/twiss_bety.pkl', 'rb'))\n",
    "Dx = pickle.load(open('../optics_new_seq_after_LS2/twiss_Dx.pkl', 'rb'))\n",
    "s = pickle.load(open('../optics_new_seq_after_LS2/twiss_s.pkl', 'rb'))\n",
    "l = pickle.load(open('../optics_new_seq_after_LS2/twiss_s.pkl', 'rb')) # elements length\n",
    "print(len(s)) # number of sps elements"
   ]
  },
  {
   "cell_type": "code",
   "execution_count": 32,
   "id": "176cbbe8",
   "metadata": {},
   "outputs": [
    {
     "name": "stdout",
     "output_type": "stream",
     "text": [
      "-1.9229417676045017e-15\n"
     ]
    }
   ],
   "source": [
    "const =  - rp/(2*np.pi*beta_0**2*gamma_0**3)*N/(np.sqrt(2*np.pi)*sigma_z)\n",
    "print(const)"
   ]
  },
  {
   "cell_type": "code",
   "execution_count": 33,
   "id": "0bdbfe4c",
   "metadata": {},
   "outputs": [],
   "source": [
    "dqx = l*betx/(np.sqrt(ex_geom*betx+Dx**2*delta_rms**2)*(np.sqrt(ex_geom*betx++Dx**2*delta_rms**2) + np.sqrt(ey_geom*bety) ))"
   ]
  },
  {
   "cell_type": "code",
   "execution_count": 34,
   "id": "eb65e54f",
   "metadata": {},
   "outputs": [
    {
     "name": "stdout",
     "output_type": "stream",
     "text": [
      "-0.00019524046252988766\n"
     ]
    }
   ],
   "source": [
    "DeltaQx = const*np.sum(dqx)/C0\n",
    "print(DeltaQx)"
   ]
  },
  {
   "cell_type": "code",
   "execution_count": 35,
   "id": "fd6fb752",
   "metadata": {},
   "outputs": [],
   "source": [
    "dqy = l*bety/(np.sqrt(ey_geom*bety)*(np.sqrt(ex_geom*betx+Dx**2*delta_rms**2)+np.sqrt(ey_geom*bety)))"
   ]
  },
  {
   "cell_type": "code",
   "execution_count": 36,
   "id": "3712e678",
   "metadata": {},
   "outputs": [
    {
     "name": "stdout",
     "output_type": "stream",
     "text": [
      "-0.00027682084848176846\n"
     ]
    }
   ],
   "source": [
    "DeltaQy = const*np.sum(dqy)/C0\n",
    "print(DeltaQy)"
   ]
  },
  {
   "cell_type": "code",
   "execution_count": null,
   "id": "2ed7089c",
   "metadata": {},
   "outputs": [],
   "source": []
  },
  {
   "cell_type": "code",
   "execution_count": null,
   "id": "01d5af98",
   "metadata": {},
   "outputs": [],
   "source": []
  },
  {
   "cell_type": "code",
   "execution_count": null,
   "id": "5fc9a616",
   "metadata": {},
   "outputs": [],
   "source": []
  },
  {
   "cell_type": "code",
   "execution_count": null,
   "id": "48810ac5",
   "metadata": {},
   "outputs": [],
   "source": []
  }
 ],
 "metadata": {
  "kernelspec": {
   "display_name": "Python 3 (ipykernel)",
   "language": "python",
   "name": "python3"
  },
  "language_info": {
   "codemirror_mode": {
    "name": "ipython",
    "version": 3
   },
   "file_extension": ".py",
   "mimetype": "text/x-python",
   "name": "python",
   "nbconvert_exporter": "python",
   "pygments_lexer": "ipython3",
   "version": "3.7.11"
  }
 },
 "nbformat": 4,
 "nbformat_minor": 5
}
