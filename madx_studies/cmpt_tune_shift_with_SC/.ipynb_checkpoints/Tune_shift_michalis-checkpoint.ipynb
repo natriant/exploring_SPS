{
 "cells": [
  {
   "cell_type": "code",
   "execution_count": 1,
   "metadata": {},
   "outputs": [],
   "source": [
    "import numpy as np\n",
    "import pylab as plt\n",
    "import scipy.integrate as integrate\n",
    "\n",
    "from scipy import interpolate\n",
    "from scipy.integrate import quad\n",
    "from scipy.constants import c, hbar, m_e, e\n",
    "from scipy.constants import physical_constants"
   ]
  },
  {
   "cell_type": "code",
   "execution_count": 2,
   "metadata": {},
   "outputs": [],
   "source": [
    "def BunchLength(Circumferance, Harmonic_Num, Energy_total, SlipF, Sigma_E, beta_rel, RF_Voltage, Energy_loss, Z):\n",
    "    '~~~ from Wiedermanns book ~~~'\n",
    "    return Sigma_E * Circumferance * np.sqrt(SlipF * Energy_total / (2 * np.pi * beta_rel * Harmonic_Num * np.sqrt(Z**2 * RF_Voltage**2 - Energy_loss**2)))\n",
    "\n",
    "def EnergySpread(Circumferance, Harmonic_Num, Energy_total, SlipF, BL, beta_rel, RF_Voltage, Energy_loss, Z):\n",
    "    '~~~ from Wiedermanns book ~~~'\n",
    "    return BL / (Circumferance * np.sqrt(SlipF * Energy_total / (2 * np.pi * beta_rel * Harmonic_Num * np.sqrt(Z**2 * RF_Voltage**2 - Energy_loss**2))))\n",
    "\n",
    "def Sigma(beta, emit, eta, Sigma_M):\n",
    "    return np.sqrt( beta * emit + (eta * Sigma_M)**2 )"
   ]
  },
  {
   "cell_type": "code",
   "execution_count": 3,
   "metadata": {},
   "outputs": [],
   "source": [
    "E0 = physical_constants[\"electron mass energy equivalent in MeV\"][0]*1e-3   #Electron Rest Mass [Gev]\n",
    "r0 = physical_constants[\"classical electron radius\"][0]               #Electron Classical Radius [m]\n",
    "\n",
    "En = 2.86       #Electron Total Energy [GeV]\n",
    "Ek = En - E0    #Kinetic Energy  [GeV]\n",
    "P0 = np.sqrt(En**2 - E0**2) / c   #Reference momentum [GeV/c]\n",
    "\n",
    "Z  = 1.0        #Number of Charges\n",
    "Nb = 4.4e9     #Bunch Population\n",
    "h  = 2852       #Harmonic Number\n",
    "\n",
    "a_p = 13e-5     #Momentum Compaction Factor\n",
    "\n",
    "gamma_rel = En / E0\n",
    "beta_rel  = np.sqrt(1 - 1/gamma_rel**2)\n",
    "\n",
    "gamma_tt  = 1 / np.sqrt(a_p)  #Gamma Transition\n",
    "SlipF     = (1/gamma_tt**2) - (1 / gamma_rel**2)  #Slip Factor\n",
    "\n",
    "V0 = 0.0045         #RF-Voltage [GV]\n",
    "U0 = 0.00398 #!!!     #Energy Loss / Turn [Gev]\n",
    "U0 = 0.0\n",
    "p_increment = U0 * 1e+9 * 1.602 * 1e-19 / c    # kg*m/s //turn"
   ]
  },
  {
   "cell_type": "code",
   "execution_count": 4,
   "metadata": {},
   "outputs": [
    {
     "name": "stdout",
     "output_type": "stream",
     "text": [
      "10376\n"
     ]
    }
   ],
   "source": [
    "ele  = []\n",
    "eleX = []\n",
    "with open('/eos/user/m/mzampeta/CLIC_DRs_studies/2020/Lattice/ibs_2ghz.tfs','r') as f:\n",
    "    for line in f:\n",
    "        for word in line.split():\n",
    "            ele.append(word)\n",
    "for i in xrange(0,len(ele),14):\n",
    "     eleX.append(ele[i])\n",
    "#---------------------------------------------\n",
    "data = np.loadtxt('/eos/user/m/mzampeta/CLIC_DRs_studies/2020/Lattice/ibs_2ghz.tfs' , usecols=(1,6,7,8,9,10,11,12,13,2))\n",
    "Posi1  = np.array(data[:,0])\n",
    "betx1  = np.array(data[:,1])\n",
    "alfx1  = np.array(data[:,2])\n",
    "etax1  = np.array(data[:,3])\n",
    "etadx1 = np.array(data[:,4])\n",
    "bety1  = np.array(data[:,5])\n",
    "alfy1  = np.array(data[:,6])\n",
    "etay1  = np.array(data[:,7])\n",
    "etady1 = np.array(data[:,8])\n",
    "dels1  = np.array(data[:,9])\n",
    "elem1  = np.array(eleX)\n",
    "\n",
    "Posi  = np.array(Posi1[0])\n",
    "betx  = np.array(betx1[0])\n",
    "alfx  = np.array(alfx1[0])\n",
    "etax  = np.array(etax1[0])\n",
    "etadx = np.array(etadx1[0])\n",
    "bety  = np.array(bety1[0])\n",
    "alfy  = np.array(alfy1[0])\n",
    "etay  = np.array(etay1[0])\n",
    "etady = np.array(etady1[0])\n",
    "dels  = np.array(dels1[0])\n",
    "elem  = np.array(elem1[0])\n",
    "\n",
    "DimT = len(elem1)\n",
    "item = 1\n",
    "while item < DimT :\n",
    "    if abs(Posi1[item] - Posi1[item-1] >= 0.005):\n",
    "        Posi  = np.append(Posi , Posi1[item])\n",
    "        betx  = np.append(betx , betx1[item])\n",
    "        alfx  = np.append(alfx , alfx1[item])\n",
    "        etax  = np.append(etax , etax1[item])\n",
    "        etadx = np.append(etadx, etadx1[item])\n",
    "        bety  = np.append(bety , bety1[item])\n",
    "        alfy  = np.append(alfy , alfy1991[item])\n",
    "        etay  = np.append(etay , etay1[item])\n",
    "        etady = np.append(etady, etady1[item])\n",
    "        dels  = np.append(dels , dels1[item])\n",
    "        elem  = np.append(elem , elem1[item])\n",
    "    item += 1\n",
    "DimT = len(elem)\n",
    "\n",
    "Circumferance = Posi[DimT-1]   #Ring Circumferance\n",
    "print DimT"
   ]
  },
  {
   "cell_type": "code",
   "execution_count": 5,
   "metadata": {},
   "outputs": [
    {
     "name": "stdout",
     "output_type": "stream",
     "text": [
      "! ------------ Parameters ------------ !\n",
      "Enx = 5.664400e-07, Eny = 3.703300e-09\n",
      "Ex  = 1.012064e-10, Ey  = 6.616722e-13\n",
      "σδ  = 0.0017273181, σs  = 0.0015854\n"
     ]
    }
   ],
   "source": [
    "Nemit_x0 = 5.6644E-07\n",
    "Nemit_y0 = 3.7033e-09\n",
    "emit_x0  = Nemit_x0 / beta_rel / gamma_rel\n",
    "emit_y0  = Nemit_y0 / beta_rel / gamma_rel\n",
    "bl0 = 0.0015854\n",
    "Sigma_E0 = EnergySpread(Circumferance, h, En, SlipF, bl0, beta_rel, V0, U0, Z)\n",
    "Sigma_M0 = Sigma_E0 / beta_rel**2\n",
    "\n",
    "# Nb=4.1e9\n",
    "# SlipF = 1.27e-4\n",
    "# h=2850\n",
    "# Nemit_x0 = 312e-09\n",
    "# Nemit_y0 = 3.7033e-09\n",
    "# emit_x0  = Nemit_x0 / beta_rel / gamma_rel\n",
    "# emit_y0  = Nemit_y0 / beta_rel / gamma_rel\n",
    "# bl0 = 0.00146\n",
    "# Sigma_E0 = EnergySpread(Circumferance, h, En, SlipF, bl0, beta_rel, V0, U0, Z)\n",
    "# Sigma_E0 = 1.3e-3\n",
    "# Sigma_M0 = Sigma_E0 / beta_rel**2\n",
    "\n",
    "print '! ------------ Parameters ------------ !'\n",
    "print 'Enx = {:1.6e}, Eny = {:1.6e}'.format(Nemit_x0, Nemit_y0)\n",
    "print 'Ex  = {:1.6e}, Ey  = {:1.6e}'.format(emit_x0, emit_y0)\n",
    "print 'σδ  = {:1.10f}, σs  = {}'.format(Sigma_M0, bl0)"
   ]
  },
  {
   "cell_type": "code",
   "execution_count": 9,
   "metadata": {},
   "outputs": [],
   "source": [
    "emit_x0  = 1.02e-10\n",
    "emit_y0  = 1.7e-12\n",
    "bl0 = 0.0015854\n",
    "Sigma_E0 = EnergySpread(Circumferance, h, En, SlipF, bl0, beta_rel, V0, U0, Z)\n",
    "Sigma_M0 = Sigma_E0 / beta_rel**2"
   ]
  },
  {
   "cell_type": "code",
   "execution_count": 10,
   "metadata": {},
   "outputs": [
    {
     "name": "stdout",
     "output_type": "stream",
     "text": [
      "! ------- SC Tune Shift ------- !\n",
      "ΔQx = -0.00492347657774\n",
      "ΔQy = -0.0922422234573\n"
     ]
    }
   ],
   "source": [
    "const = - Nb * r0 / ((2*np.pi)**(3/2.) * beta_rel**2 * gamma_rel**3 * bl0)\n",
    "sigma_x = Sigma(betx, emit_x0, etax, Sigma_M0)\n",
    "sigma_y = Sigma(bety, emit_y0, etay, Sigma_M0)\n",
    "DQxi = betx / (sigma_x * (sigma_x + sigma_y))\n",
    "DQyi = bety / (sigma_y * (sigma_x + sigma_y))\n",
    "\n",
    "# Does not work if not full lattice !!!\n",
    "DQx = const * np.sum(DQxi * dels)\n",
    "DQy = const * np.sum(DQyi * dels)\n",
    "print '! ------- SC Tune Shift ------- !'\n",
    "print \"ΔQx = {}\".format(DQx)\n",
    "print \"ΔQy = {}\".format(DQy)"
   ]
  },
  {
   "cell_type": "code",
   "execution_count": 8,
   "metadata": {},
   "outputs": [
    {
     "name": "stdout",
     "output_type": "stream",
     "text": [
      "! ------- SC Tune Shift ------- !\n",
      "ΔQx = -0.00411348133063\n",
      "ΔQy = -0.0202641956806\n"
     ]
    },
    {
     "name": "stderr",
     "output_type": "stream",
     "text": [
      "/usr/local/bin/start_ipykernel.py:9: IntegrationWarning: The maximum number of subdivisions (50) has been achieved.\n",
      "  If increasing the limit yields no improvement it is advised to analyze \n",
      "  the integrand in order to determine the difficulties.  If the position of a \n",
      "  local difficulty can be determined (singularity, discontinuity) one will \n",
      "  probably gain from splitting up the interval and calling the integrator \n",
      "  on the subranges.  Perhaps a special-purpose integrator should be used.\n",
      "/usr/local/bin/start_ipykernel.py:10: IntegrationWarning: The maximum number of subdivisions (50) has been achieved.\n",
      "  If increasing the limit yields no improvement it is advised to analyze \n",
      "  the integrand in order to determine the difficulties.  If the position of a \n",
      "  local difficulty can be determined (singularity, discontinuity) one will \n",
      "  probably gain from splitting up the interval and calling the integrator \n",
      "  on the subranges.  Perhaps a special-purpose integrator should be used.\n"
     ]
    }
   ],
   "source": [
    "const = - Nb * r0 / ((2*np.pi)**(3/2.) * beta_rel**2 * gamma_rel**3 * bl0)\n",
    "sigma_x = Sigma(betx, emit_x0, etax, Sigma_M0)\n",
    "sigma_y = Sigma(bety, emit_y0, etay, Sigma_M0)\n",
    "DQxi = betx / (sigma_x * (sigma_x + sigma_y))\n",
    "DQyi = bety / (sigma_y * (sigma_x + sigma_y))\n",
    "\n",
    "IDQx = interpolate.interp1d(Posi, DQxi, 'cubic')\n",
    "IDQy = interpolate.interp1d(Posi, DQyi, 'cubic')\n",
    "DQx = const * integrate.quad(IDQx, Posi[0], Posi[-1])[0]\n",
    "DQy = const * integrate.quad(IDQy, Posi[0], Posi[-1])[0]\n",
    "print '! ------- SC Tune Shift ------- !'\n",
    "print \"ΔQx = {}\".format(DQx)\n",
    "print \"ΔQy = {}\".format(DQy)"
   ]
  },
  {
   "cell_type": "code",
   "execution_count": null,
   "metadata": {},
   "outputs": [],
   "source": []
  },
  {
   "cell_type": "code",
   "execution_count": 11,
   "metadata": {},
   "outputs": [
    {
     "name": "stdout",
     "output_type": "stream",
     "text": [
      "! ------------ Parameters ------------ !\n",
      "Enx = 1.300000e-08, Eny = 1.300000e-08\n",
      "Ex  = 2.322723e-12, Ey  = 2.322723e-12\n",
      "σδ  = 0.0017273181, σs  = 0.0015854\n",
      "! ------- SC Tune Shift ------- !\n",
      "ΔQx = -0.0946814755419\n",
      "ΔQy = -0.167646317345\n"
     ]
    },
    {
     "name": "stderr",
     "output_type": "stream",
     "text": [
      "/usr/local/bin/start_ipykernel.py:23: IntegrationWarning: The maximum number of subdivisions (50) has been achieved.\n",
      "  If increasing the limit yields no improvement it is advised to analyze \n",
      "  the integrand in order to determine the difficulties.  If the position of a \n",
      "  local difficulty can be determined (singularity, discontinuity) one will \n",
      "  probably gain from splitting up the interval and calling the integrator \n",
      "  on the subranges.  Perhaps a special-purpose integrator should be used.\n",
      "/usr/local/bin/start_ipykernel.py:24: IntegrationWarning: The maximum number of subdivisions (50) has been achieved.\n",
      "  If increasing the limit yields no improvement it is advised to analyze \n",
      "  the integrand in order to determine the difficulties.  If the position of a \n",
      "  local difficulty can be determined (singularity, discontinuity) one will \n",
      "  probably gain from splitting up the interval and calling the integrator \n",
      "  on the subranges.  Perhaps a special-purpose integrator should be used.\n"
     ]
    }
   ],
   "source": [
    "Nemit_x0 = 13e-09\n",
    "Nemit_y0 = 13e-09\n",
    "emit_x0  = Nemit_x0 / beta_rel / gamma_rel\n",
    "emit_y0  = Nemit_y0 / beta_rel / gamma_rel\n",
    "bl0 = 0.0015854\n",
    "Sigma_E0 = EnergySpread(Circumferance, h, En, SlipF, bl0, beta_rel, V0, U0, Z)\n",
    "Sigma_M0 = Sigma_E0 / beta_rel**2\n",
    "\n",
    "\n",
    "print '! ------------ Parameters ------------ !'\n",
    "print 'Enx = {:1.6e}, Eny = {:1.6e}'.format(Nemit_x0, Nemit_y0)\n",
    "print 'Ex  = {:1.6e}, Ey  = {:1.6e}'.format(emit_x0, emit_y0)\n",
    "print 'σδ  = {:1.10f}, σs  = {}'.format(Sigma_M0, bl0)\n",
    "\n",
    "const = - Nb * r0 / ((2*np.pi)**(3/2.) * beta_rel**2 * gamma_rel**3 * bl0)\n",
    "sigma_x = Sigma(betx, emit_x0, etax, Sigma_M0)\n",
    "sigma_y = Sigma(bety, emit_y0, etay, Sigma_M0)\n",
    "DQxi = betx / (sigma_x * (sigma_x + sigma_y))\n",
    "DQyi = bety / (sigma_y * (sigma_x + sigma_y))\n",
    "\n",
    "IDQx = interpolate.interp1d(Posi, DQxi, 'cubic')\n",
    "IDQy = interpolate.interp1d(Posi, DQyi, 'cubic')\n",
    "DQx = const * integrate.quad(IDQx, Posi[0], Posi[-1])[0]\n",
    "DQy = const * integrate.quad(IDQy, Posi[0], Posi[-1])[0]\n",
    "print '! ------- SC Tune Shift ------- !'\n",
    "print \"ΔQx = {}\".format(DQx)\n",
    "print \"ΔQy = {}\".format(DQy)"
   ]
  },
  {
   "cell_type": "code",
   "execution_count": null,
   "metadata": {},
   "outputs": [],
   "source": []
  },
  {
   "cell_type": "code",
   "execution_count": null,
   "metadata": {},
   "outputs": [],
   "source": []
  },
  {
   "cell_type": "code",
   "execution_count": null,
   "metadata": {},
   "outputs": [],
   "source": []
  }
 ],
 "metadata": {
  "kernelspec": {
   "display_name": "Python 3 (ipykernel)",
   "language": "python",
   "name": "python3"
  },
  "language_info": {
   "codemirror_mode": {
    "name": "ipython",
    "version": 3
   },
   "file_extension": ".py",
   "mimetype": "text/x-python",
   "name": "python",
   "nbconvert_exporter": "python",
   "pygments_lexer": "ipython3",
   "version": "3.7.11"
  }
 },
 "nbformat": 4,
 "nbformat_minor": 4
}
