{
 "cells": [
  {
   "cell_type": "code",
   "execution_count": 1,
   "metadata": {},
   "outputs": [],
   "source": [
    "from scipy import integrate\n",
    "from scipy import interpolate\n",
    "import numpy as np\n",
    "import pickle"
   ]
  },
  {
   "cell_type": "code",
   "execution_count": 2,
   "metadata": {},
   "outputs": [],
   "source": [
    "def EnergySpread(Circumferance, Harmonic_Num, Energy_total, SlipF, BL, beta_rel, RF_Voltage, Energy_loss, Z):\n",
    "    '~~~ from Wiedermanns book ~~~'\n",
    "    return BL / (Circumferance * np.sqrt(SlipF * Energy_total / (2 * np.pi * beta_rel * Harmonic_Num * np.sqrt(Z**2 * RF_Voltage**2 - Energy_loss**2))))"
   ]
  },
  {
   "cell_type": "code",
   "execution_count": 3,
   "metadata": {},
   "outputs": [],
   "source": [
    "def slip_factor(alpha_p, gamma_0):\n",
    "    return alpha_p - 1/(gamma_0**2)"
   ]
  },
  {
   "cell_type": "code",
   "execution_count": 4,
   "metadata": {},
   "outputs": [],
   "source": [
    "# Beam parameters\n",
    "m0 = 0.9382720813e9 # proton rest mass, [eV/c^2] \n",
    "E_0 = 200e9\n",
    "N = 3e10 # ppb\n",
    "ex_norm, ey_norm = 2e-6, 2e-6 # m\n",
    "rp = 1.535 * 10 ** (-18) # the clasical proton radius [m]\n",
    "sigma_z = 0.157 # rms bunch length in [m]"
   ]
  },
  {
   "cell_type": "code",
   "execution_count": 5,
   "metadata": {},
   "outputs": [
    {
     "name": "stdout",
     "output_type": "stream",
     "text": [
      "213.15778651635344 0.9999889955082187\n"
     ]
    }
   ],
   "source": [
    "# Compute relativistic parameters\n",
    "E_rest = m0 # [eV]\n",
    "gamma_0 =  E_0/E_rest # gamma realtivistic of the reference particle  \n",
    "beta_0 = np.sqrt(1-1/gamma_0**2) # beta realtivistic of the reference particle\n",
    "print(gamma_0, beta_0)"
   ]
  },
  {
   "cell_type": "code",
   "execution_count": 6,
   "metadata": {},
   "outputs": [],
   "source": [
    "# Machine parameters, needed for the energy spread computation\n",
    "h = 4620 # harmonic\n",
    "C0 = 6911.5038 # SPS circumference [m]  \n",
    "Vrf = 3.8e6 # V\n",
    "U0 = 0 # energy losses\n",
    "Z = 1  # for protong\n",
    "gamma_t = 22.8 # for Q26 property of the optics\n",
    "alpha_p = 1/gamma_t**2 # property of the optics\n",
    "\n"
   ]
  },
  {
   "cell_type": "code",
   "execution_count": 7,
   "metadata": {},
   "outputs": [
    {
     "name": "stdout",
     "output_type": "stream",
     "text": [
      "0.0019016599587120704\n",
      "0.0003868530302331514\n"
     ]
    }
   ],
   "source": [
    "# compute slip factor and momentum spread\n",
    "slipF = slip_factor(alpha_p, gamma_0)\n",
    "print(slipF)\n",
    "\n",
    "delta_rms = EnergySpread(C0, h, E_0, slipF, sigma_z, beta_0, Vrf, U0, Z)\n",
    "print(delta_rms)"
   ]
  },
  {
   "cell_type": "code",
   "execution_count": 8,
   "metadata": {},
   "outputs": [
    {
     "name": "stdout",
     "output_type": "stream",
     "text": [
      "9.382824066210321e-09 9.382824066210321e-09\n"
     ]
    }
   ],
   "source": [
    "# compute geometric emittance\n",
    "ex_geom = ex_norm/(beta_0*gamma_0)\n",
    "ey_geom = ey_norm/(beta_0*gamma_0)\n",
    "print(ex_geom, ey_geom) # m"
   ]
  },
  {
   "cell_type": "code",
   "execution_count": 19,
   "metadata": {},
   "outputs": [],
   "source": [
    "# Import SPS optics\n",
    "data = np.loadtxt('twiss.tfs' , usecols=(1,2,3,4,5)) # betx,dx, bety,s,l\n",
    "betx1 = np.array(data[:,0])\n",
    "dx1 = np.array(data[:,1])\n",
    "bety1 = np.array(data[:,2])\n",
    "s1 = np.array(data[:,3])\n",
    "l1 = np.array(data[:,4])"
   ]
  },
  {
   "cell_type": "code",
   "execution_count": 20,
   "metadata": {},
   "outputs": [
    {
     "name": "stdout",
     "output_type": "stream",
     "text": [
      "6533\n"
     ]
    }
   ],
   "source": [
    "print(len(l1))"
   ]
  },
  {
   "cell_type": "code",
   "execution_count": 21,
   "metadata": {},
   "outputs": [],
   "source": [
    "# remove duplicates from the sequence i.e. elements at the same location\n",
    "betx = np.array(betx1[0])\n",
    "dx =  np.array(dx1[0])\n",
    "bety = np.array(bety1[0])\n",
    "s =  np.array(s1[0])\n",
    "l =  np.array(l1[0])"
   ]
  },
  {
   "cell_type": "code",
   "execution_count": 22,
   "metadata": {},
   "outputs": [
    {
     "name": "stdout",
     "output_type": "stream",
     "text": [
      "6531\n"
     ]
    }
   ],
   "source": [
    "DimT = len(betx1)\n",
    "item = 1\n",
    "\n",
    "while item < DimT :\n",
    "    if abs(s1[item] - s1[item-1] > 0.0):\n",
    "        s  = np.append(s , s1[item])\n",
    "        betx  = np.append(betx , betx1[item])\n",
    "        dx = np.append(dx, dx1[item])\n",
    "        bety  = np.append(bety , bety1[item])\n",
    "        l = np.append(l , l1[item])\n",
    "    item += 1\n",
    "print(len(s))"
   ]
  },
  {
   "cell_type": "code",
   "execution_count": 24,
   "metadata": {},
   "outputs": [
    {
     "name": "stdout",
     "output_type": "stream",
     "text": [
      "-1.9229417676045017e-15\n"
     ]
    }
   ],
   "source": [
    "const =  - rp/(2*np.pi*beta_0**2*gamma_0**3)*N/(np.sqrt(2*np.pi)*sigma_z)\n",
    "print(const)"
   ]
  },
  {
   "cell_type": "code",
   "execution_count": 30,
   "metadata": {},
   "outputs": [],
   "source": [
    "dqx = betx/(np.sqrt(ex_geom*betx+dx**2*delta_rms**2)*(np.sqrt(ex_geom*betx+dx**2*delta_rms**2) + np.sqrt(ey_geom*bety) ))"
   ]
  },
  {
   "cell_type": "code",
   "execution_count": 31,
   "metadata": {},
   "outputs": [],
   "source": [
    "dqy = bety/(np.sqrt(ey_geom*bety)*(np.sqrt(ex_geom*betx+dx**2*delta_rms**2)+np.sqrt(ey_geom*bety)))"
   ]
  },
  {
   "cell_type": "code",
   "execution_count": 33,
   "metadata": {},
   "outputs": [],
   "source": [
    "IDQx = interpolate.interp1d(s, dqx, 'cubic')\n",
    "IDQy = interpolate.interp1d(s, dqy, 'cubic')"
   ]
  },
  {
   "cell_type": "code",
   "execution_count": 34,
   "metadata": {},
   "outputs": [
    {
     "name": "stderr",
     "output_type": "stream",
     "text": [
      "/Users/nataliatriantafyllou/miniconda3/envs/run_pyheadtail/lib/python3.7/site-packages/ipykernel_launcher.py:1: IntegrationWarning: The maximum number of subdivisions (50) has been achieved.\n",
      "  If increasing the limit yields no improvement it is advised to analyze \n",
      "  the integrand in order to determine the difficulties.  If the position of a \n",
      "  local difficulty can be determined (singularity, discontinuity) one will \n",
      "  probably gain from splitting up the interval and calling the integrator \n",
      "  on the subranges.  Perhaps a special-purpose integrator should be used.\n",
      "  \"\"\"Entry point for launching an IPython kernel.\n",
      "/Users/nataliatriantafyllou/miniconda3/envs/run_pyheadtail/lib/python3.7/site-packages/ipykernel_launcher.py:2: IntegrationWarning: The maximum number of subdivisions (50) has been achieved.\n",
      "  If increasing the limit yields no improvement it is advised to analyze \n",
      "  the integrand in order to determine the difficulties.  If the position of a \n",
      "  local difficulty can be determined (singularity, discontinuity) one will \n",
      "  probably gain from splitting up the interval and calling the integrator \n",
      "  on the subranges.  Perhaps a special-purpose integrator should be used.\n",
      "  \n"
     ]
    }
   ],
   "source": [
    "DQx = const * integrate.quad(IDQx, s[0], s[-1])[0]\n",
    "DQy = const * integrate.quad(IDQy, s[0], s[-1])[0]"
   ]
  },
  {
   "cell_type": "code",
   "execution_count": 36,
   "metadata": {},
   "outputs": [
    {
     "name": "stdout",
     "output_type": "stream",
     "text": [
      "-0.0004298821954880876\n",
      "-0.0005896511131444238\n"
     ]
    }
   ],
   "source": [
    "print(DQx)\n",
    "print(DQy)"
   ]
  },
  {
   "cell_type": "code",
   "execution_count": null,
   "metadata": {},
   "outputs": [],
   "source": []
  },
  {
   "cell_type": "code",
   "execution_count": null,
   "metadata": {},
   "outputs": [],
   "source": []
  },
  {
   "cell_type": "code",
   "execution_count": null,
   "metadata": {},
   "outputs": [],
   "source": []
  }
 ],
 "metadata": {
  "kernelspec": {
   "display_name": "Python 3 (ipykernel)",
   "language": "python",
   "name": "python3"
  },
  "language_info": {
   "codemirror_mode": {
    "name": "ipython",
    "version": 3
   },
   "file_extension": ".py",
   "mimetype": "text/x-python",
   "name": "python",
   "nbconvert_exporter": "python",
   "pygments_lexer": "ipython3",
   "version": "3.7.11"
  }
 },
 "nbformat": 4,
 "nbformat_minor": 4
}
