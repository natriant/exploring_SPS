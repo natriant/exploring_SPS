{
 "cells": [
  {
   "cell_type": "markdown",
   "metadata": {},
   "source": [
    "Sacherer formula Eq.6.207  https://www.slac.stanford.edu/~achao/WileyBook/WileyChapter6.pdf\n",
    "CGS units are used. "
   ]
  },
  {
   "cell_type": "code",
   "execution_count": 1,
   "metadata": {},
   "outputs": [],
   "source": [
    "import numpy as np\n",
    "from scipy.constants import m_p, c, e\n",
    "import matplotlib.pyplot as plt"
   ]
  },
  {
   "cell_type": "markdown",
   "metadata": {},
   "source": [
    "### Load the impedance data (use only of dipolar kick)"
   ]
  },
  {
   "cell_type": "code",
   "execution_count": 2,
   "metadata": {},
   "outputs": [],
   "source": [
    "## Choose plane of interest\n",
    "plane = 'y' # 'x' or 'y'\n",
    "\n",
    "if plane == 'x':\n",
    "    #column_select = 1\n",
    "    legend_Im = r'$\\mathrm{Im(Z_x)}$'\n",
    "    legend_Re = r'$\\mathrm{Re(Z_x)}$'\n",
    "    y_label = r'$\\mathrm{Z_x \\ [\\Omega /m]}$'\n",
    "    Q_b = 20.13 # betatron tune\n",
    "if plane == 'y':\n",
    "    #column_select = 2\n",
    "    legend_Im = r'$\\mathrm{Im(Z_y)}$'\n",
    "    legend_Re = r'$\\mathrm{Re(Z_y)}$'\n",
    "    y_label = r'$\\mathrm{Z_y \\ [\\Omega /m]}$'\n",
    "    Q_b = 20.25 #20.22 # betatron tune"
   ]
  },
  {
   "cell_type": "code",
   "execution_count": 3,
   "metadata": {},
   "outputs": [
    {
     "data": {
      "text/plain": [
       "\"\\n# A1. Plot vertical impedances (dipolar kick only)\\nplt.plot(freqZ, ImZ_y_dipolar, label=legend_Im)\\nplt.plot(freqZ, ReZ_y_dipolar, label=legend_Re)\\nplt.xlabel('Frequency [Hz]')\\nplt.ylabel(y_label)\\nplt.legend()\\nplt.grid(ls='--')\\nplt.ylim(-0.5e7, 0.5e8)\\nplt.show()\\n\""
      ]
     },
     "execution_count": 3,
     "metadata": {},
     "output_type": "execute_result"
    }
   ],
   "source": [
    "#### Impedance model from https://gitlab.cern.ch/IRIS/SPS_IW_model/-/tree/master/SPS_IW_model_python ###########################################\n",
    "#impedanceData = np.genfromtxt('SPS_Complete_imp_model_2018_Q26.txt', skip_header=1, dtype=complex)\n",
    "impedanceData = np.genfromtxt('./impedanceFiles/Q20/SPS_Imp_model_with_kicker_wall_2018_Q20.txt', skip_header=1, dtype=complex)\n",
    "\n",
    "freqZ = np.real(impedanceData[:, 0]) * 1E9  # frequencies in [GHz], so probably this needs to change in 1e9\n",
    "\n",
    "ReZ_y_dipolar = np.real(impedanceData[:, 2]) # dipolar kick in y-plane, always odd, -f(x) = f(-x)\n",
    "ImZ_y_dipolar = np.imag(impedanceData[:, 2])  # dipolar kick in the y-plane, always even (f-x) = f(x)\n",
    "\n",
    "ReZ_y_quad = np.real(impedanceData[:, 4]) \n",
    "ImZ_y_quad = np.imag(impedanceData[:, 4])  \n",
    "\n",
    "\n",
    "'''\n",
    "# A1. Plot vertical impedances (dipolar kick only)\n",
    "plt.plot(freqZ, ImZ_y_dipolar, label=legend_Im)\n",
    "plt.plot(freqZ, ReZ_y_dipolar, label=legend_Re)\n",
    "plt.xlabel('Frequency [Hz]')\n",
    "plt.ylabel(y_label)\n",
    "plt.legend()\n",
    "plt.grid(ls='--')\n",
    "plt.ylim(-0.5e7, 0.5e8)\n",
    "plt.show()\n",
    "'''"
   ]
  },
  {
   "cell_type": "markdown",
   "metadata": {},
   "source": [
    "### Plot again vs angular frequency"
   ]
  },
  {
   "cell_type": "code",
   "execution_count": 4,
   "metadata": {},
   "outputs": [
    {
     "data": {
      "text/plain": [
       "\"\\n# A2. Plot vertical impedances (dipolar kick only)\\nplt.plot(omegaZ, ImZ, label=legend_Im)\\nplt.plot(omegaZ, ReZ, label=legend_Re)\\nplt.xlabel('Angular frequency [rad]')\\nplt.ylabel(y_label)\\nplt.legend()\\nplt.grid(ls='--')\\nplt.ylim(-0.5e7, 0.5e8)\\nplt.show()\\nplt.close()\\n\""
      ]
     },
     "execution_count": 4,
     "metadata": {},
     "output_type": "execute_result"
    }
   ],
   "source": [
    "omegaZ = 2*np.pi*freqZ\n",
    "'''\n",
    "# A2. Plot vertical impedances (dipolar kick only)\n",
    "plt.plot(omegaZ, ImZ, label=legend_Im)\n",
    "plt.plot(omegaZ, ReZ, label=legend_Re)\n",
    "plt.xlabel('Angular frequency [rad]')\n",
    "plt.ylabel(y_label)\n",
    "plt.legend()\n",
    "plt.grid(ls='--')\n",
    "plt.ylim(-0.5e7, 0.5e8)\n",
    "plt.show()\n",
    "plt.close()\n",
    "'''"
   ]
  },
  {
   "cell_type": "markdown",
   "metadata": {},
   "source": [
    "### Compute the effective impedance\n",
    "\n",
    "The effective impedance $Z_{eff}$ is described by:\n",
    "\n",
    "$Z_{\\perp eff}^{(l)} = \\frac{\\sum_{p=-\\infty}^{+ \\infty}Z_{\\perp }^{(l)}(\\omega_{p}) h_l(\\omega_{p}-\\omega_\\xi)}{\\sum_{p=-\\infty}^{+ \\infty}h_l(\\omega_{p}-\\omega_\\xi)}$ (1)\n",
    "\n",
    "with $\\omega_p = (p+Q)\\omega_0$ the discrete spectrum of the transverse bunch oscillations. $-\\infty < p < + \\infty$ for a single bunch (which is our case) or several bunches oscillating independently. $\\omega_\\xi=(\\xi \\omega_0)/(\\eta \\nu_b)$ the chromatic frequency, with $\\eta$ the phase slip factor. Note that $\\xi$ is the chromaticity defined as $\\xi = d\\nu_b/d\\delta$ with $\\delta=\\Delta P/P_0$ the relative momentum error, and $Q^\\prime=\\xi/\\nu_b$. Thus we can re-write $\\omega_\\xi=Q^\\prime \\omega_0 / \\eta$. \\textbf{Attention:} In the simulations $Q^\\prime$ is referred as chromaticity.\n",
    "\n",
    "Last, $h_l$, is the power spectral density of a Gaussian bunch of $l$ azimuthial mode. $h_l$ is described by \\cite{Chao:collective} (Chapter Eq.6.143):\n",
    "$h_l(\\omega) = (\\omega \\sigma_z/c)^{2l} e^{-(\\omega \\sigma_z/c)^2}$ (2)\n",
    "   \n",
    "where $c$ is the speed of light in [m/s]."
   ]
  },
  {
   "cell_type": "code",
   "execution_count": 5,
   "metadata": {},
   "outputs": [],
   "source": [
    "def hmm_gaus(omega, sigma_z, clight, l=0):\n",
    "    return (omega*sigma_z/clight)**(2*l)*np.exp(-(omega*sigma_z/clight)**2)"
   ]
  },
  {
   "cell_type": "code",
   "execution_count": 6,
   "metadata": {},
   "outputs": [],
   "source": [
    "# create the spectrum with discrete lines\n",
    "nSideband = 350000 #int(np.floor((1E10/(f_0))))\n",
    "sidebands_p = np.arange(-nSideband, nSideband+0.5)"
   ]
  },
  {
   "cell_type": "code",
   "execution_count": 7,
   "metadata": {},
   "outputs": [],
   "source": [
    "l = 0 # azimuthial mode (headtail mode)\n",
    "clight = c*1e2 #[cm]/[s]\n",
    "circum = 2 * np.pi * 1.1E3*1e2  # [cm]\n",
    "f_0 = clight / circum  # revolution frequency in Hz\n",
    "omega_0 = 2 * np.pi * f_0  # angular revolution frequency\n",
    "#Q_y = 26.18 # betatron tune"
   ]
  },
  {
   "cell_type": "code",
   "execution_count": 8,
   "metadata": {},
   "outputs": [],
   "source": [
    "omegas = omega_0*(sidebands_p+Q_b) # the middle is not zero due to the shift of q_y"
   ]
  },
  {
   "cell_type": "code",
   "execution_count": 9,
   "metadata": {},
   "outputs": [],
   "source": [
    "### compute chromatic frequency shift"
   ]
  },
  {
   "cell_type": "code",
   "execution_count": 10,
   "metadata": {},
   "outputs": [],
   "source": [
    "Qp = 0.0 # chromaticity\n",
    "gamma_t = 18 #22.8  # for Q26, 18 for Q20\n",
    "\n",
    "# Compute lorentz facotr\n",
    "m0 = 0.9382720813e9 # proton rest mass, [eV/c^2]\n",
    "E_rest = m0\n",
    "E_0 = 26e9  # total energy of the reference particle [eV]\n",
    "gamma = E_0/E_rest\n",
    "eta = 1 / gamma_t ** 2 - 1 / gamma ** 2 # slip factor\n",
    "omega_xi = Qp * omega_0 / eta\n",
    "\n",
    "sigma_z = 27 #15.5 # [cm] "
   ]
  },
  {
   "cell_type": "code",
   "execution_count": 11,
   "metadata": {},
   "outputs": [
    {
     "data": {
      "text/plain": [
       "Text(0, 0.5, '$h_0(\\\\omega_p - \\\\omega_\\\\xi)$')"
      ]
     },
     "execution_count": 11,
     "metadata": {},
     "output_type": "execute_result"
    },
    {
     "data": {
      "image/png": "[encoded data removed]",
      "text/plain": [
       "<Figure size 432x288 with 1 Axes>"
      ]
     },
     "metadata": {
      "needs_background": "light"
     },
     "output_type": "display_data"
    }
   ],
   "source": [
    "hs = hmm_gaus(omegas-omega_xi, sigma_z, clight=clight, l=0)\n",
    "#hs = hmm_gaus_tau(omegas-omega_xi, tau)\n",
    "plt.plot(omegas-omega_xi, hs)\n",
    "plt.xlabel(r'$\\omega_p - \\omega_\\xi$')\n",
    "plt.ylabel(r'$h_0(\\omega_p - \\omega_\\xi)$')"
   ]
  },
  {
   "cell_type": "code",
   "execution_count": 12,
   "metadata": {},
   "outputs": [],
   "source": [
    "### Create impedance for negative frequencies and Extrapolate Zeff in the omehas"
   ]
  },
  {
   "cell_type": "code",
   "execution_count": 13,
   "metadata": {},
   "outputs": [
    {
     "data": {
      "text/plain": [
       "(-5000000.0, 50000000.0)"
      ]
     },
     "execution_count": 13,
     "metadata": {},
     "output_type": "execute_result"
    },
    {
     "data": {
      "image/png": "[encoded data removed]",
      "text/plain": [
       "<Figure size 432x288 with 1 Axes>"
      ]
     },
     "metadata": {
      "needs_background": "light"
     },
     "output_type": "display_data"
    }
   ],
   "source": [
    "# ImZ is always even f(x) = f(-x)\n",
    "ImZ_y_pos_dipolar = ImZ_y_dipolar\n",
    "ImZ_y_neg_dipolar = ImZ_y_dipolar\n",
    "\n",
    "ImZ_y_pos_quad = ImZ_y_quad\n",
    "ImZ_y_neg_quad = ImZ_y_quad\n",
    "\n",
    "\n",
    "\n",
    "# B. Plot vertical impedance also for negative frequencies\n",
    "plt.plot(omegaZ, ImZ_y_pos_dipolar, label=legend_Im)\n",
    "plt.plot(-omegaZ, ImZ_y_neg_dipolar, label='- '+legend_Im)\n",
    "\n",
    "plt.xlabel('Angular frequency [rad]')\n",
    "plt.ylabel(y_label)\n",
    "plt.legend()\n",
    "plt.grid(ls='--')\n",
    "plt.ylim(-0.5e7, 0.5e8)"
   ]
  },
  {
   "cell_type": "code",
   "execution_count": 14,
   "metadata": {},
   "outputs": [],
   "source": [
    "### Extrapolate"
   ]
  },
  {
   "cell_type": "code",
   "execution_count": 15,
   "metadata": {},
   "outputs": [],
   "source": [
    "omegas_pos = list(filter(lambda x: x >= 0, omegas))\n",
    "omegas_neg = list(filter(lambda x: x < 0, omegas))\n",
    "\n",
    "ImZ_pos_interp_y_dipolar = np.interp(omegas_pos, omegaZ, ImZ_y_pos_dipolar)\n",
    "ImZ_neg_interp_y_dipolar = np.interp(np.abs(omegas_neg), omegaZ, ImZ_y_neg_dipolar)\n",
    "\n",
    "ImZ_pos_interp_y_quad = np.interp(omegas_pos, omegaZ, ImZ_y_pos_quad)\n",
    "ImZ_neg_interp_y_quad = np.interp(np.abs(omegas_neg), omegaZ, ImZ_y_neg_quad)\n",
    "\n",
    "\n",
    "\n",
    "# C1. Plot ImZ(my_omegas)\n",
    "#plt.plot(omegas_pos, ImZ_pos_interp_y_dipolar, label=legend_Im)\n",
    "#plt.plot(omegas_neg, ImZ_neg_interp_y_dipolar, label='- '+legend_Im )\n",
    "\n",
    "#plt.xlabel('Angular frequency [rad]')\n",
    "#plt.ylabel(y_label)\n",
    "#plt.legend()\n",
    "#plt.grid(ls='--')\n",
    "#plt.ylim(-0.5e7, 0.5e8)\n",
    "#plt.xlim(-5e10, 5e10)"
   ]
  },
  {
   "cell_type": "code",
   "execution_count": 16,
   "metadata": {},
   "outputs": [],
   "source": [
    "# C2. constract and plot total impedance.\n",
    "\n",
    "ImZ_interp_total_y_dipolar = list(ImZ_neg_interp_y_dipolar)+list(ImZ_pos_interp_y_dipolar)\n",
    "ImZ_interp_total_y_quad = list(ImZ_neg_interp_y_quad)+list(ImZ_pos_interp_y_quad)\n",
    "\n",
    "\n",
    "#plt.plot(omegas, ImZ_interp_total_y_dipolar, label=legend_Im)\n",
    "#plt.xlabel('Angular frequency [rad]')\n",
    "#plt.ylabel(y_label)\n",
    "#plt.legend()\n",
    "#plt.grid(ls='--')\n",
    "#plt.ylim(-0.5e7, 0.5e8)\n",
    "#plt.xlim(-5e10, 5e10)"
   ]
  },
  {
   "cell_type": "code",
   "execution_count": 17,
   "metadata": {},
   "outputs": [
    {
     "name": "stdout",
     "output_type": "stream",
     "text": [
      "Zeff = 11690583.214132667 [Ohm/m]\n"
     ]
    }
   ],
   "source": [
    "# compute effective impedance\n",
    "Zeff_nominator_dipolar = np.sum(ImZ_interp_total_y_dipolar*hs)\n",
    "Zeff_denominator_dipolar = np.sum(hs)\n",
    "Zeff_dipolar = Zeff_nominator_dipolar/Zeff_denominator_dipolar\n",
    "\n",
    "\n",
    "Zeff_nominator_quad = np.sum(ImZ_interp_total_y_quad*hs)\n",
    "Zeff_denominator_quad = np.sum(hs)\n",
    "Zeff_quad = Zeff_nominator_quad/Zeff_denominator_quad\n",
    "\n",
    "Zeff = Zeff_dipolar+Zeff_quad\n",
    "\n",
    "print(f'Zeff = {Zeff} [Ohm/m]')"
   ]
  },
  {
   "cell_type": "markdown",
   "metadata": {},
   "source": [
    "### Convert in CGS units\n",
    "- 1 [Ohm] = (1/9)*10**(-11) [s]/[cm]\n",
    "- 1 [Ohm]/[m] = (1/9)*10**(-13) [s]/[cm]**2 "
   ]
  },
  {
   "cell_type": "code",
   "execution_count": 18,
   "metadata": {},
   "outputs": [],
   "source": [
    "iZeff_cgs = Zeff*(1/9)*1e-13 #[s]/[cm]**2 iZeff of Eq.6.207"
   ]
  },
  {
   "cell_type": "markdown",
   "metadata": {},
   "source": [
    "### Compute DQ (CGS units)\n",
    "\n",
    "\\begin{equation}\n",
    "\\Omega^{(l)}-\\omega_{\\beta}-l\\omega_s = -\\frac{1}{4\\pi}\\frac{\\Gamma(l+1/2)}{2^l l!}\\frac{N r_0 c^2}{\\gamma T_0 \\omega_\\beta \\sigma} jZ_{eff} \\ \\ (4)\n",
    "\\end{equation}\n",
    "\n",
    "For l = 0 :\n",
    "\n",
    "- $(\\Gamma(1/2)=\\sqrt{\\pi}$\n",
    "- $T_0 = 2\\pi/\\omega_0$\n",
    "- $Q_y = \\omega_\\beta/\\omega_0$\n",
    "\n",
    "\\begin{equation}\n",
    "\\Omega^{(l)}-\\omega_{\\beta} = -\\frac{\\sqrt{\\pi}}{4\\pi}\\frac{N r_0 c^2}{\\gamma \\frac{2\\pi}{\\omega_0} \\omega_\\beta \\sigma} jZ_{eff}  \\ \\ (5)\n",
    "\\end{equation}\n",
    "\n",
    "which is written:\n",
    "\\begin{equation}\n",
    "\\Delta\\Omega = -\\frac{N r_0 c^2}{8\\pi^{3/2}\\gamma Q_b \\sigma} jZ_{eff}   \\ \\ (6)\n",
    "\\end{equation}\n",
    "\n",
    "Last, \n",
    "\n",
    "\\begin{equation}\n",
    "\\Delta Q = \\frac{\\Delta \\Omega^{(l)}}{\\omega_0} \\ \\ (7)\n",
    "\\end{equation}\n"
   ]
  },
  {
   "cell_type": "code",
   "execution_count": 19,
   "metadata": {},
   "outputs": [
    {
     "name": "stdout",
     "output_type": "stream",
     "text": [
      "DQ_coh = -0.0029227290011650487 \n"
     ]
    }
   ],
   "source": [
    "# Compute DQ\n",
    "r_0 = 1.535 * 10 ** (-16) # [cm]\n",
    "Nb = 3.0e10 #intensity_list[4] #3e10  # protons per bunch\n",
    "\n",
    "### Eq.6.207 Chao, collective effects\n",
    "Domega = -(Nb * r_0 * clight ** 2 * iZeff_cgs) / (8 * np.pi ** (3 / 2) * gamma * Q_b* sigma_z)\n",
    "\n",
    "\n",
    "DQ_coh = Domega/omega_0\n",
    "print(f'DQ_coh = {DQ_coh} ')\n",
    "#DQ = -(beta*e*I_0*Zeff)/(4*sigma_z*np.sqrt(np.pi)*omega_0**2*gamma*26.18*m_p)\n"
   ]
  },
  {
   "cell_type": "code",
   "execution_count": 20,
   "metadata": {},
   "outputs": [
    {
     "name": "stdout",
     "output_type": "stream",
     "text": [
      "DQ_coh = -0.0 \n",
      "DQ_coh = -0.0012178037504854372 \n",
      "DQ_coh = -0.0024356075009708744 \n",
      "DQ_coh = -0.003653411251456311 \n",
      "DQ_coh = -0.004871215001941749 \n"
     ]
    }
   ],
   "source": [
    "# Compute DQ\n",
    "r_0 = 1.535 * 10 ** (-16)\n",
    "\n",
    "intensity_list = np.linspace(0, 5e10, 5) # protons per bunch\n",
    "#intensity_list = np.linspace(2.5e11, 4e11, 5) # protons per bunch\n",
    "\n",
    "\n",
    "DQ_coh_list = []\n",
    "for Nb in intensity_list:\n",
    "\n",
    "    ### Eq.6.207 Chao, collective effects\n",
    "    Domega = -(Nb * r_0 * clight ** 2 * iZeff_cgs) / (8 * np.pi ** (3 / 2) * gamma * Q_b * sigma_z)\n",
    "\n",
    "\n",
    "    DQ_coh = Domega/omega_0\n",
    "    print(f'DQ_coh = {DQ_coh} ')\n",
    "    DQ_coh_list.append(DQ_coh)"
   ]
  },
  {
   "cell_type": "code",
   "execution_count": 21,
   "metadata": {},
   "outputs": [
    {
     "data": {
      "text/plain": [
       "[-0.0,\n",
       " -0.0012178037504854372,\n",
       " -0.0024356075009708744,\n",
       " -0.003653411251456311,\n",
       " -0.004871215001941749]"
      ]
     },
     "execution_count": 21,
     "metadata": {},
     "output_type": "execute_result"
    }
   ],
   "source": [
    "DQ_coh_list"
   ]
  },
  {
   "cell_type": "code",
   "execution_count": 22,
   "metadata": {},
   "outputs": [
    {
     "data": {
      "image/png": "[encoded data removed]",
      "text/plain": [
       "<Figure size 432x288 with 1 Axes>"
      ]
     },
     "metadata": {
      "needs_background": "light"
     },
     "output_type": "display_data"
    }
   ],
   "source": [
    "plt.plot(intensity_list, np.array(DQ_coh_list), 'o')\n",
    "plt.xlim()\n",
    "plt.grid()"
   ]
  },
  {
   "cell_type": "code",
   "execution_count": 23,
   "metadata": {},
   "outputs": [],
   "source": [
    "# save in pickle files\n",
    "import pickle\n",
    "\n",
    "Q_coherent = {}\n",
    "#Qx_coherent = {}\n",
    "for i, intensity in enumerate(intensity_list):\n",
    "    Q_coherent[f'intensity {intensity}'] = DQ_coh_list[i]\n",
    "    #Qx_coherent[f'intensity {intensity}'] = Qx_list[i]\n",
    "    \n",
    "save2pickle = True\n",
    "if save2pickle:\n",
    "    with open(f'Q{plane}_coherent_vs_Intensity_Chao_QpyQpx{Qp}_steps_26GeV_Q20WallsKickes2018_dipolQuads.pkl', 'wb') as ff:\n",
    "        pickle.dump(Q_coherent, ff, pickle.HIGHEST_PROTOCOL)\n",
    "    ff.close()\n",
    "    \n",
    "#if save2pickle:\n",
    "#    with open(f'Qx_coherent_vs_Intensity_6D_ayy{app_y}_wakesON_Qpy{Qp_x}_{wakeContribution}.pkl', 'wb') as ff:\n",
    "#        pickle.dump(Qx_coherent, ff, pickle.HIGHEST_PROTOCOL)\n",
    "#    ff.close()"
   ]
  },
  {
   "cell_type": "code",
   "execution_count": null,
   "metadata": {},
   "outputs": [],
   "source": []
  },
  {
   "cell_type": "code",
   "execution_count": null,
   "metadata": {},
   "outputs": [],
   "source": []
  },
  {
   "cell_type": "code",
   "execution_count": null,
   "metadata": {},
   "outputs": [],
   "source": []
  }
 ],
 "metadata": {
  "kernelspec": {
   "display_name": "Python 3",
   "language": "python",
   "name": "python3"
  },
  "language_info": {
   "codemirror_mode": {
    "name": "ipython",
    "version": 3
   },
   "file_extension": ".py",
   "mimetype": "text/x-python",
   "name": "python",
   "nbconvert_exporter": "python",
   "pygments_lexer": "ipython3",
   "version": "3.7.3"
  }
 },
 "nbformat": 4,
 "nbformat_minor": 4
}
