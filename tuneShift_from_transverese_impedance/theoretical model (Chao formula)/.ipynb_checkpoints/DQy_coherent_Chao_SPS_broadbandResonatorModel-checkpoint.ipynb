{
 "cells": [
  {
   "cell_type": "markdown",
   "metadata": {},
   "source": [
    "- Broadband resonator model for SPS from Eq. 6.27 file:///home/natalia/Downloads/EPFL_TH4585%20(6).pdf\n",
    "\n",
    "\\begin{equation}\n",
    "Z_{\\perp}(f) = \\frac{f_{res}}{f}\\frac{R_s}{1+jQ(\\frac{f}{f_{res}}-\\frac{f_{res}}{f})},\n",
    "\\end{equation}\n",
    "\n",
    "where $f$ is the frequency, $R_s$ is the transverse resonator shunt impedance, $f_{res}$ is the resonator frequency and $Q$ is the resonator quality factor.\n",
    "\n",
    "- Computation of complex frequency shift from: Eq.6.207  https://www.slac.stanford.edu/~achao/WileyBook/WileyChapter6.pdf\n",
    "CGS units are used. "
   ]
  },
  {
   "cell_type": "code",
   "execution_count": 1,
   "metadata": {},
   "outputs": [],
   "source": [
    "import numpy as np\n",
    "from scipy.constants import m_p, c, e\n",
    "import matplotlib.pyplot as plt"
   ]
  },
  {
   "cell_type": "code",
   "execution_count": null,
   "metadata": {},
   "outputs": [],
   "source": []
  },
  {
   "cell_type": "code",
   "execution_count": 2,
   "metadata": {},
   "outputs": [],
   "source": [
    "l = 0 # azimuthial mode (headtail mode)\n",
    "# SPS parameters\n",
    "clight = c*1e2 #[cm]/[s]\n",
    "circum = 2 * np.pi * 1.1E3*1e2  # [cm]\n",
    "f_0 = clight / circum  # revolution frequency in Hz\n",
    "omega_0 = 2 * np.pi * f_0  # angular revolution frequency\n",
    "Q_y = 26.18"
   ]
  },
  {
   "cell_type": "code",
   "execution_count": 3,
   "metadata": {},
   "outputs": [],
   "source": [
    "# create the spectrum with discrete lines\n",
    "nSideband = 350000 #int(np.floor((1E10/(f_0))))\n",
    "sidebands_p = np.arange(-nSideband, nSideband+0.5)\n",
    "omegas = omega_0*(sidebands_p+Q_y) # the middle is not zero due to the shift of q_y"
   ]
  },
  {
   "cell_type": "code",
   "execution_count": 4,
   "metadata": {},
   "outputs": [],
   "source": [
    "f = omegas/(2*np.pi)"
   ]
  },
  {
   "cell_type": "code",
   "execution_count": 5,
   "metadata": {},
   "outputs": [],
   "source": [
    "## Parameters of the broadband resonator \n",
    "f_res = 1e9 # Hz\n",
    "omega_res = f_res*2*np.pi\n",
    "R_shunt = 10e6 # Ohm/m\n",
    "Q=1 # quality factor"
   ]
  },
  {
   "cell_type": "code",
   "execution_count": 6,
   "metadata": {},
   "outputs": [],
   "source": [
    "Z = (f_res/f)*(R_shunt/(1+1j*(f/f_res-f_res/f)))"
   ]
  },
  {
   "cell_type": "code",
   "execution_count": 7,
   "metadata": {},
   "outputs": [],
   "source": [
    "ImZ = np.imag(Z)\n",
    "ReZ = np.real(Z)"
   ]
  },
  {
   "cell_type": "code",
   "execution_count": 8,
   "metadata": {},
   "outputs": [
    {
     "data": {
      "text/plain": [
       "<matplotlib.legend.Legend at 0x7fdf0137d0b8>"
      ]
     },
     "execution_count": 8,
     "metadata": {},
     "output_type": "execute_result"
    },
    {
     "name": "stderr",
     "output_type": "stream",
     "text": [
      "/home/natalia/anaconda3/lib/python3.7/site-packages/IPython/core/pylabtools.py:128: UserWarning: Creating legend with loc=\"best\" can be slow with large amounts of data.\n",
      "  fig.canvas.print_figure(bytes_io, **kw)\n"
     ]
    },
    {
     "data": {
      "image/png": "[encoded data removed]",
      "text/plain": [
       "<Figure size 432x288 with 1 Axes>"
      ]
     },
     "metadata": {
      "needs_background": "light"
     },
     "output_type": "display_data"
    }
   ],
   "source": [
    "plt.plot(f, ImZ, label='ImZ')\n",
    "plt.plot(f, ReZ, label='ReZ')\n",
    "plt.legend()"
   ]
  },
  {
   "cell_type": "code",
   "execution_count": null,
   "metadata": {},
   "outputs": [],
   "source": []
  },
  {
   "cell_type": "code",
   "execution_count": null,
   "metadata": {},
   "outputs": [],
   "source": []
  },
  {
   "cell_type": "markdown",
   "metadata": {},
   "source": [
    "### Compute the effective impedance\n",
    "\n",
    "The effective impedance $Z_{eff}$ is described by:\n",
    "\n",
    "$Z_{\\perp eff}^{(l)} = \\frac{\\sum_{p=-\\infty}^{+ \\infty}Z_{\\perp }^{(l)}(\\omega_{p}) h_l(\\omega_{p}-\\omega_\\xi)}{\\sum_{p=-\\infty}^{+ \\infty}h_l(\\omega_{p}-\\omega_\\xi)}$ (1)\n",
    "\n",
    "with $\\omega_p = (p+Q)\\omega_0$ the discrete spectrum of the transverse bunch oscillations. $-\\infty < p < + \\infty$ for a single bunch (which is our case) or several bunches oscillating independently. $\\omega_\\xi=(\\xi \\omega_0)/(\\eta \\nu_b)$ the chromatic frequency, with $\\eta$ the phase slip factor. Note that $\\xi$ is the chromaticity defined as $\\xi = d\\nu_b/d\\delta$ with $\\delta=\\Delta P/P_0$ the relative momentum error, and $Q^\\prime=\\xi/\\nu_b$. Thus we can re-write $\\omega_\\xi=Q^\\prime \\omega_0 / \\eta$. \\textbf{Attention:} In the simulations $Q^\\prime$ is referred as chromaticity.\n",
    "\n",
    "Last, $h_l$, is the power spectral density of a Gaussian bunch of $l$ azimuthial mode. $h_l$ is described by \\cite{Chao:collective} (Chapter Eq.6.143):\n",
    "$h_l(\\omega) = (\\omega \\sigma_z/c)^{2l} e^{-(\\omega \\sigma_z/c)^2}$ (2)\n",
    "   \n",
    "where $c$ is the speed of light in [m/s]."
   ]
  },
  {
   "cell_type": "code",
   "execution_count": 9,
   "metadata": {},
   "outputs": [],
   "source": [
    "def hmm_gaus(omega, sigma_z, clight, l=0):\n",
    "    return (omega*sigma_z/clight)**(2*l)*np.exp(-(omega*sigma_z/clight)**2)"
   ]
  },
  {
   "cell_type": "code",
   "execution_count": 10,
   "metadata": {},
   "outputs": [],
   "source": [
    "### compute chromatic frequency shift"
   ]
  },
  {
   "cell_type": "code",
   "execution_count": 11,
   "metadata": {},
   "outputs": [],
   "source": [
    "Qp_y = 0.0\n",
    "gamma_t = 22.8  # for Q26\n",
    "\n",
    "# Compute lorentz facotr\n",
    "m0 = 0.9382720813e9 # proton rest mass, [eV/c^2]\n",
    "E_rest = m0\n",
    "E_0 = 270e9  # total energy of the reference particle [eV]\n",
    "gamma = E_0/E_rest\n",
    "eta = 1 / gamma_t ** 2 - 1 / gamma ** 2 # slip factor\n",
    "omega_xi = Qp_y * omega_0 / eta\n",
    "\n",
    "sigma_z = 27#15.5 # [cm] "
   ]
  },
  {
   "cell_type": "code",
   "execution_count": 12,
   "metadata": {},
   "outputs": [
    {
     "data": {
      "text/plain": [
       "Text(0, 0.5, '$h_0(\\\\omega_p - \\\\omega_\\\\xi)$')"
      ]
     },
     "execution_count": 12,
     "metadata": {},
     "output_type": "execute_result"
    },
    {
     "data": {
      "image/png": "[encoded data removed]",
      "text/plain": [
       "<Figure size 432x288 with 1 Axes>"
      ]
     },
     "metadata": {
      "needs_background": "light"
     },
     "output_type": "display_data"
    }
   ],
   "source": [
    "hs = hmm_gaus(omegas-omega_xi, sigma_z, clight=clight, l=0)\n",
    "#hs = hmm_gaus_tau(omegas-omega_xi, tau)\n",
    "plt.plot(omegas-omega_xi, hs)\n",
    "plt.xlabel(r'$\\omega_p - \\omega_\\xi$')\n",
    "plt.ylabel(r'$h_0(\\omega_p - \\omega_\\xi)$')"
   ]
  },
  {
   "cell_type": "code",
   "execution_count": 13,
   "metadata": {},
   "outputs": [
    {
     "name": "stdout",
     "output_type": "stream",
     "text": [
      "Zeff = 9992124.907335477 [Ohm/m]\n"
     ]
    }
   ],
   "source": [
    "# compute effective impedance\n",
    "Zeff_nominator = np.sum(ImZ*hs)\n",
    "Zeff_denominator = np.sum(hs)\n",
    "Zeff = Zeff_nominator/Zeff_denominator\n",
    "\n",
    "print(f'Zeff = {Zeff} [Ohm/m]')"
   ]
  },
  {
   "cell_type": "code",
   "execution_count": null,
   "metadata": {},
   "outputs": [],
   "source": []
  },
  {
   "cell_type": "markdown",
   "metadata": {},
   "source": [
    "### Convert in CGS units\n",
    "- 1 [Ohm] = (1/9)*10**(-11) [s]/[cm]\n",
    "- 1 [Ohm]/[m] = (1/9)*10**(-13) [s]/[cm]**2 "
   ]
  },
  {
   "cell_type": "code",
   "execution_count": 14,
   "metadata": {},
   "outputs": [],
   "source": [
    "iZeff_cgs = Zeff*(1/9)*1e-13 #[s]/[cm]**2 iZeff of Eq.6.207"
   ]
  },
  {
   "cell_type": "markdown",
   "metadata": {},
   "source": [
    "### Compute DQ (CGS units)\n",
    "\n",
    "\\begin{equation}\n",
    "\\Omega^{(l)}-\\omega_{\\beta}-l\\omega_s = -\\frac{1}{4\\pi}\\frac{\\Gamma(l+1/2)}{2^l l!}\\frac{N r_0 c^2}{\\gamma T_0 \\omega_\\beta \\sigma} jZ_{eff} \\ \\ (4)\n",
    "\\end{equation}\n",
    "\n",
    "For l = 0 :\n",
    "\n",
    "- $(\\Gamma(1/2)=\\sqrt{\\pi}$\n",
    "- $T_0 = 2\\pi/\\omega_0$\n",
    "- $Q_y = \\omega_\\beta/\\omega_0$\n",
    "\n",
    "\\begin{equation}\n",
    "\\Omega^{(l)}-\\omega_{\\beta} = -\\frac{\\sqrt{\\pi}}{4\\pi}\\frac{N r_0 c^2}{\\gamma \\frac{2\\pi}{\\omega_0} \\omega_\\beta \\sigma} jZ_{eff}  \\ \\ (5)\n",
    "\\end{equation}\n",
    "\n",
    "which is written:\n",
    "\\begin{equation}\n",
    "\\Delta\\Omega = -\\frac{N r_0 c^2}{8\\pi^{3/2}\\gamma Q_y \\sigma} jZ_{eff}   \\ \\ (6)\n",
    "\\end{equation}\n",
    "\n",
    "Last, \n",
    "\n",
    "\\begin{equation}\n",
    "\\Delta Q = \\frac{\\Delta \\Omega^{(l)}}{\\omega_0} \\ \\ (7)\n",
    "\\end{equation}\n"
   ]
  },
  {
   "cell_type": "code",
   "execution_count": 15,
   "metadata": {},
   "outputs": [
    {
     "name": "stdout",
     "output_type": "stream",
     "text": [
      "DQ_coh = -0.00021708108544798502 \n"
     ]
    }
   ],
   "source": [
    "# Compute DQ\n",
    "r_0 = 1.535 * 10 ** (-16) # [cm]\n",
    "Nb = 3.5e10 #intensity_list[4] #3e10  # protons per bunch\n",
    "\n",
    "### Eq.6.207 Chao, collective effects\n",
    "Domega = -(Nb * r_0 * clight ** 2 * iZeff_cgs) / (8 * np.pi ** (3 / 2) * gamma * Q_y * sigma_z)\n",
    "\n",
    "\n",
    "DQ_coh = Domega/omega_0\n",
    "print(f'DQ_coh = {DQ_coh} ')\n",
    "#DQ = -(beta*e*I_0*Zeff)/(4*sigma_z*np.sqrt(np.pi)*omega_0**2*gamma*26.18*m_p)\n"
   ]
  },
  {
   "cell_type": "code",
   "execution_count": null,
   "metadata": {},
   "outputs": [],
   "source": []
  },
  {
   "cell_type": "code",
   "execution_count": 16,
   "metadata": {},
   "outputs": [
    {
     "name": "stdout",
     "output_type": "stream",
     "text": [
      "DQ_coh = -0.0 \n",
      "DQ_coh = -7.752895908856607e-05 \n",
      "DQ_coh = -0.00015505791817713215 \n",
      "DQ_coh = -0.0002325868772656982 \n",
      "DQ_coh = -0.0003101158363542643 \n"
     ]
    }
   ],
   "source": [
    "# Compute DQ\n",
    "r_0 = 1.535 * 10 ** (-16)\n",
    "\n",
    "intensity_list = np.linspace(0, 5e10, 5) # protons per bunch\n",
    "\n",
    "DQy_coh_list = []\n",
    "for Nb in intensity_list:\n",
    "\n",
    "    ### Eq.6.207 Chao, collective effects\n",
    "    Domega = -(Nb * r_0 * clight ** 2 * iZeff_cgs) / (8 * np.pi ** (3 / 2) * gamma * Q_y * sigma_z)\n",
    "\n",
    "\n",
    "    DQy_coh = Domega/omega_0\n",
    "    print(f'DQ_coh = {DQy_coh} ')\n",
    "    DQy_coh_list.append(DQy_coh)"
   ]
  },
  {
   "cell_type": "code",
   "execution_count": 17,
   "metadata": {},
   "outputs": [
    {
     "name": "stdout",
     "output_type": "stream",
     "text": [
      "[-0.0, -7.752895908856607e-05, -0.00015505791817713215, -0.0002325868772656982, -0.0003101158363542643]\n"
     ]
    }
   ],
   "source": [
    "print(DQy_coh_list)"
   ]
  },
  {
   "cell_type": "code",
   "execution_count": null,
   "metadata": {},
   "outputs": [],
   "source": []
  },
  {
   "cell_type": "code",
   "execution_count": null,
   "metadata": {},
   "outputs": [],
   "source": []
  }
 ],
 "metadata": {
  "kernelspec": {
   "display_name": "Python 3",
   "language": "python",
   "name": "python3"
  },
  "language_info": {
   "codemirror_mode": {
    "name": "ipython",
    "version": 3
   },
   "file_extension": ".py",
   "mimetype": "text/x-python",
   "name": "python",
   "nbconvert_exporter": "python",
   "pygments_lexer": "ipython3",
   "version": "3.7.3"
  }
 },
 "nbformat": 4,
 "nbformat_minor": 4
}
