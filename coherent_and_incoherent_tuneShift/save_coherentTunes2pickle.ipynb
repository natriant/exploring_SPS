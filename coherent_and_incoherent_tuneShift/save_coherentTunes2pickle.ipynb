{
 "cells": [
  {
   "cell_type": "code",
   "execution_count": 29,
   "metadata": {},
   "outputs": [],
   "source": [
    "import pickle\n",
    "import pandas as pd"
   ]
  },
  {
   "cell_type": "code",
   "execution_count": 30,
   "metadata": {},
   "outputs": [],
   "source": [
    "my_dict = {}\n",
    "my_dict['Qx'] = {}\n",
    "my_dict['Qy'] = {}\n"
   ]
  },
  {
   "cell_type": "code",
   "execution_count": 31,
   "metadata": {},
   "outputs": [
    {
     "data": {
      "text/plain": [
       "{'Qx': {}, 'Qy': {}}"
      ]
     },
     "execution_count": 31,
     "metadata": {},
     "output_type": "execute_result"
    }
   ],
   "source": [
    "my_dict"
   ]
  },
  {
   "cell_type": "code",
   "execution_count": 32,
   "metadata": {},
   "outputs": [],
   "source": [
    "my_dict['Qx']['ayy-4000'] = 0.1299843287054355\n",
    "my_dict['Qy']['ayy-4000'] = 0.17947326212381903"
   ]
  },
  {
   "cell_type": "code",
   "execution_count": 33,
   "metadata": {},
   "outputs": [],
   "source": [
    "my_dict['Qx']['ayy-6000'] = 0.1299843732753936\n",
    "my_dict['Qy']['ayy-6000'] =0.17941665306115948"
   ]
  },
  {
   "cell_type": "code",
   "execution_count": 34,
   "metadata": {},
   "outputs": [],
   "source": [
    "my_dict['Qx']['ayy-12000'] = 0.12998431041712039\n",
    "my_dict['Qy']['ayy-12000'] = 0.17925346776672488"
   ]
  },
  {
   "cell_type": "code",
   "execution_count": null,
   "metadata": {},
   "outputs": [],
   "source": []
  },
  {
   "cell_type": "code",
   "execution_count": 35,
   "metadata": {},
   "outputs": [],
   "source": [
    "my_dict['Qx']['ayy4000'] = 0.1299842053523675\n",
    "my_dict['Qy']['ayy4000'] = 0.17969667752331162"
   ]
  },
  {
   "cell_type": "code",
   "execution_count": 36,
   "metadata": {},
   "outputs": [],
   "source": [
    "my_dict['Qx']['ayy6000'] =0.1299843187610028 # 0.1299843187610028\n",
    "my_dict['Qy']['ayy6000'] =0.1797437880780011 # 0.1797437880780011"
   ]
  },
  {
   "cell_type": "code",
   "execution_count": 37,
   "metadata": {},
   "outputs": [],
   "source": [
    "my_dict['Qx']['ayy12000'] = 0.12998437131975027\n",
    "my_dict['Qy']['ayy12000'] = 0.17987819663867077"
   ]
  },
  {
   "cell_type": "code",
   "execution_count": 38,
   "metadata": {},
   "outputs": [
    {
     "data": {
      "text/plain": [
       "{'Qx': {'ayy-4000': 0.1299843287054355,\n",
       "  'ayy-6000': 0.0,\n",
       "  'ayy-12000': 0.12998431041712039,\n",
       "  'ayy4000': 0.1299842053523675,\n",
       "  'ayy6000': 0.1299843187610028,\n",
       "  'ayy12000': 0.12998437131975027},\n",
       " 'Qy': {'ayy-4000': 0.17947326212381903,\n",
       "  'ayy-6000': 0.0,\n",
       "  'ayy-12000': 0.17925346776672488,\n",
       "  'ayy4000': 0.17969667752331162,\n",
       "  'ayy6000': 0.1797437880780011,\n",
       "  'ayy12000': 0.17987819663867077}}"
      ]
     },
     "execution_count": 38,
     "metadata": {},
     "output_type": "execute_result"
    }
   ],
   "source": [
    "my_dict"
   ]
  },
  {
   "cell_type": "code",
   "execution_count": 39,
   "metadata": {},
   "outputs": [],
   "source": [
    "file_to_write = open(\"coherent_Qx_Qy_6D_offsetxy1e-4.pickle\", \"wb\")\n",
    "pickle.dump(my_dict, file_to_write)\n",
    "file_to_write.close()"
   ]
  },
  {
   "cell_type": "code",
   "execution_count": null,
   "metadata": {},
   "outputs": [],
   "source": []
  }
 ],
 "metadata": {
  "kernelspec": {
   "display_name": "Python 3",
   "language": "python",
   "name": "python3"
  },
  "language_info": {
   "codemirror_mode": {
    "name": "ipython",
    "version": 3
   },
   "file_extension": ".py",
   "mimetype": "text/x-python",
   "name": "python",
   "nbconvert_exporter": "python",
   "pygments_lexer": "ipython3",
   "version": "3.7.6"
  }
 },
 "nbformat": 4,
 "nbformat_minor": 4
}
