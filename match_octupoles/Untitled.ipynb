{
 "cells": [
  {
   "cell_type": "code",
   "execution_count": 1,
   "metadata": {},
   "outputs": [],
   "source": [
    "import pandas as pd\n",
    "import pickle"
   ]
  },
  {
   "cell_type": "code",
   "execution_count": 2,
   "metadata": {},
   "outputs": [],
   "source": [
    "tt = pickle.load(open('summary_QpxQpy1_b3b5b7_270GeV_ayyScan_axyNoConstraint_LOD.pkl', 'rb'))"
   ]
  },
  {
   "cell_type": "code",
   "execution_count": 3,
   "metadata": {},
   "outputs": [
    {
     "data": {
      "text/html": [
       "<div>\n",
       "<style scoped>\n",
       "    .dataframe tbody tr th:only-of-type {\n",
       "        vertical-align: middle;\n",
       "    }\n",
       "\n",
       "    .dataframe tbody tr th {\n",
       "        vertical-align: top;\n",
       "    }\n",
       "\n",
       "    .dataframe thead th {\n",
       "        text-align: right;\n",
       "    }\n",
       "</style>\n",
       "<table border=\"1\" class=\"dataframe\">\n",
       "  <thead>\n",
       "    <tr style=\"text-align: right;\">\n",
       "      <th></th>\n",
       "      <th>ayy [1/m]</th>\n",
       "      <th>axy [1/m]</th>\n",
       "      <th>klof [1/m^4]</th>\n",
       "      <th>klod [1/m^4]</th>\n",
       "      <th>O3_lof [T/m^3]</th>\n",
       "      <th>O3_lod [T/m^3]</th>\n",
       "      <th>I_lof [A]</th>\n",
       "      <th>I_lod [A]</th>\n",
       "    </tr>\n",
       "  </thead>\n",
       "  <tbody>\n",
       "    <tr>\n",
       "      <th>0</th>\n",
       "      <td>[-3.3865281417414116e-10, -1999.999999999903, ...</td>\n",
       "      <td>[-454.71369171132477, 543.9573806104584, 1542....</td>\n",
       "      <td>[0.0, 0.0, 0.0, 0.0, 0.0, 0.0, 0.0, 0.0, 0.0, ...</td>\n",
       "      <td>[0.047904800269748804, -1.8340876667455863, -3...</td>\n",
       "      <td>[0.0, 0.0, 0.0, 0.0, 0.0, 0.0, 0.0, 0.0, 0.0, ...</td>\n",
       "      <td>[43.14416766559276, -1651.8216412946194, -3346...</td>\n",
       "      <td>[0.0, 0.0, 0.0, 0.0, 0.0, 0.0, 0.0, 0.0, 0.0, ...</td>\n",
       "      <td>[0.43144167665592764, -16.518216412946195, -33...</td>\n",
       "    </tr>\n",
       "  </tbody>\n",
       "</table>\n",
       "</div>"
      ],
      "text/plain": [
       "                                           ayy [1/m]  \\\n",
       "0  [-3.3865281417414116e-10, -1999.999999999903, ...   \n",
       "\n",
       "                                           axy [1/m]  \\\n",
       "0  [-454.71369171132477, 543.9573806104584, 1542....   \n",
       "\n",
       "                                        klof [1/m^4]  \\\n",
       "0  [0.0, 0.0, 0.0, 0.0, 0.0, 0.0, 0.0, 0.0, 0.0, ...   \n",
       "\n",
       "                                        klod [1/m^4]  \\\n",
       "0  [0.047904800269748804, -1.8340876667455863, -3...   \n",
       "\n",
       "                                      O3_lof [T/m^3]  \\\n",
       "0  [0.0, 0.0, 0.0, 0.0, 0.0, 0.0, 0.0, 0.0, 0.0, ...   \n",
       "\n",
       "                                      O3_lod [T/m^3]  \\\n",
       "0  [43.14416766559276, -1651.8216412946194, -3346...   \n",
       "\n",
       "                                           I_lof [A]  \\\n",
       "0  [0.0, 0.0, 0.0, 0.0, 0.0, 0.0, 0.0, 0.0, 0.0, ...   \n",
       "\n",
       "                                           I_lod [A]  \n",
       "0  [0.43144167665592764, -16.518216412946195, -33...  "
      ]
     },
     "execution_count": 3,
     "metadata": {},
     "output_type": "execute_result"
    }
   ],
   "source": [
    "tt"
   ]
  },
  {
   "cell_type": "code",
   "execution_count": 4,
   "metadata": {},
   "outputs": [
    {
     "data": {
      "text/plain": [
       "0    [-3.3865281417414116e-10, -1999.999999999903, ...\n",
       "Name: ayy [1/m], dtype: object"
      ]
     },
     "execution_count": 4,
     "metadata": {},
     "output_type": "execute_result"
    }
   ],
   "source": [
    "tt['ayy [1/m]']"
   ]
  },
  {
   "cell_type": "code",
   "execution_count": 5,
   "metadata": {},
   "outputs": [
    {
     "data": {
      "text/plain": [
       "[-3.3865281417414116e-10,\n",
       " -1999.999999999903,\n",
       " -3999.999999999329,\n",
       " -5999.999999999446,\n",
       " -8000.00000000063,\n",
       " -9999.999999999789,\n",
       " -11999.999999999898,\n",
       " -13999.999999999509,\n",
       " -15999.999999999556,\n",
       " -17999.999999999975,\n",
       " -19999.999999999232,\n",
       " -3.3865281417414116e-10,\n",
       " 1999.9999999998645,\n",
       " 3999.9999999993233,\n",
       " 6000.000000000394,\n",
       " 7999.9999999998745,\n",
       " 9999.999999999407,\n",
       " 11999.999999999467,\n",
       " 14000.000000000076,\n",
       " 16000.000000000671,\n",
       " 18000.00000000023,\n",
       " 19999.999999999196]"
      ]
     },
     "execution_count": 5,
     "metadata": {},
     "output_type": "execute_result"
    }
   ],
   "source": [
    "tt['ayy [1/m]'][0]"
   ]
  },
  {
   "cell_type": "code",
   "execution_count": null,
   "metadata": {},
   "outputs": [],
   "source": []
  }
 ],
 "metadata": {
  "kernelspec": {
   "display_name": "Python 3",
   "language": "python",
   "name": "python3"
  },
  "language_info": {
   "codemirror_mode": {
    "name": "ipython",
    "version": 3
   },
   "file_extension": ".py",
   "mimetype": "text/x-python",
   "name": "python",
   "nbconvert_exporter": "python",
   "pygments_lexer": "ipython3",
   "version": "3.7.3"
  }
 },
 "nbformat": 4,
 "nbformat_minor": 4
}
