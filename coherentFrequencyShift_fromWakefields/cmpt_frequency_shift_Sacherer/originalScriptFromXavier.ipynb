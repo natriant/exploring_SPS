{
 "cells": [
  {
   "cell_type": "code",
   "execution_count": 1,
   "metadata": {},
   "outputs": [],
   "source": [
    "import numpy as np\n",
    "from matplotlib import pyplot as plt\n",
    "from scipy.integrate import quad\n",
    "from scipy import constants as cst\n",
    "import matplotlib\n",
    "matplotlib.rcParams['font.size'] = 20"
   ]
  },
  {
   "cell_type": "code",
   "execution_count": 2,
   "metadata": {},
   "outputs": [],
   "source": [
    "def hmm_gauss(freq,tau,m=0):\n",
    "    return (2.0*np.pi*freq*tau/4)**(2*m) * np.exp(-(2.0*np.pi*freq*tau/4.)**2)"
   ]
  },
  {
   "cell_type": "code",
   "execution_count": 3,
   "metadata": {},
   "outputs": [],
   "source": [
    "N = 3.5E10\n",
    "Qx = 26.18\n",
    "Qs = 0.0051\n",
    "gamma_t = 22.8\n",
    "energy = 270.0\n",
    "gamma = np.sqrt(1+(energy/0.938)**2)\n",
    "circum = 2*np.pi*1.1E3\n",
    "frev = cst.c/circum\n",
    "eta = 1/gamma_t**2 - 1/gamma**2\n",
    "tau = 1.85E-9\n",
    "sigmaz = tau*cst.c/4\n",
    "modeNumber = 0\n",
    "chroma=0.0"
   ]
  },
  {
   "cell_type": "code",
   "execution_count": 9,
   "metadata": {},
   "outputs": [],
   "source": [
    "#### Impedance model from https://gitlab.cern.ch/IRIS/SPS_IW_model/-/tree/master/SPS_IW_model_python ###########################################\n",
    "path2impedanceModel='/home/natalia/PhD_projects/headtail_instabilities_and_impedance/from_Xavier'\n",
    "impedanceData = np.genfromtxt(f'{path2impedanceModel}/SPS_Complete_imp_model_2018_Q26.txt',skip_header=1,dtype=complex)\n",
    "freqZ = np.real(impedanceData[:,0])*1E9 # original 1e6\n",
    "ReZ = np.real(impedanceData[:,2]) # keep the real part of the impedance, in order to compute the imaginary part of the tune shift"
   ]
  },
  {
   "cell_type": "code",
   "execution_count": 14,
   "metadata": {},
   "outputs": [
    {
     "name": "stdout",
     "output_type": "stream",
     "text": [
      "[-230542. -230541. -230540. ...  230540.  230541.  230542.]\n",
      "-24814.93158353845\n"
     ]
    }
   ],
   "source": [
    "# Comput effective impedance\n",
    "nSideband = int(np.floor((1E10/frev)))\n",
    "sidebands = np.arange(-nSideband,nSideband+0.5)\n",
    "print(sidebands)\n",
    "\n",
    "chromaShift = chroma*frev/eta\n",
    "\n",
    "freqs = frev*(-0.18+sidebands+modeNumber*Qs) # spectrum of gaussian bunch oscillation in mode modeNumebr\n",
    "\n",
    "hs = hmm_gauss(freqs-chromaShift,tau,m=modeNumber)\n",
    "\n",
    "zeffs = np.interp(np.abs(freqs),freqZ,ReZ)*np.sign(freqs)*hs # np.sign(freqs) as the ReZ is always an odd function of the frequency\n",
    "#zeffs = np.interp(np.abs(freqs),freqZ,ReZ)*hs # np.sign(freqs) as the ReZ is always an odd function of the frequency\n",
    "zeffs /= np.sum(hs)\n",
    "zeff = np.sum(zeffs)\n",
    "print(zeff)"
   ]
  },
  {
   "cell_type": "code",
   "execution_count": 15,
   "metadata": {},
   "outputs": [
    {
     "data": {
      "text/plain": [
       "(-5000000000.0, 5000000000.0)"
      ]
     },
     "execution_count": 15,
     "metadata": {},
     "output_type": "execute_result"
    },
    {
     "data": {
      "image/png": "[encoded data removed]",
      "text/plain": [
       "<Figure size 432x288 with 1 Axes>"
      ]
     },
     "metadata": {
      "needs_background": "light"
     },
     "output_type": "display_data"
    }
   ],
   "source": [
    "plt.plot(freqs, zeffs)\n",
    "plt.xlim(-0.5e10,0.5e10)"
   ]
  },
  {
   "cell_type": "code",
   "execution_count": 16,
   "metadata": {},
   "outputs": [],
   "source": [
    "dampingRate = zeff*cst.e**2*N/(16.0*np.pi*cst.m_p*gamma*Qx*frev*sigmaz*2*np.pi)"
   ]
  },
  {
   "cell_type": "code",
   "execution_count": 17,
   "metadata": {},
   "outputs": [
    {
     "data": {
      "text/plain": [
       "-9.311949812524053e-07"
      ]
     },
     "execution_count": 17,
     "metadata": {},
     "output_type": "execute_result"
    }
   ],
   "source": [
    "dampingRate"
   ]
  },
  {
   "cell_type": "code",
   "execution_count": null,
   "metadata": {},
   "outputs": [],
   "source": []
  },
  {
   "cell_type": "code",
   "execution_count": null,
   "metadata": {},
   "outputs": [],
   "source": []
  },
  {
   "cell_type": "code",
   "execution_count": 86,
   "metadata": {},
   "outputs": [
    {
     "data": {
      "image/png": "[encoded data removed]",
      "text/plain": [
       "<Figure size 432x288 with 1 Axes>"
      ]
     },
     "metadata": {
      "needs_background": "light"
     },
     "output_type": "display_data"
    }
   ],
   "source": [
    "\n",
    "\n",
    "\n",
    "\n",
    "\n",
    "    #### Sacherer formula (e.g. 8 and 9 in Sec 2.5.7 in Handbook of Accelerator physics and engineering from A. Chao and M. Tigner) ################\n",
    "   \n",
    "    #dampingRate = zeff*cst.e**2*N/(16.0*np.pi*cst.m_p*gamma*Qx*frev*sigmaz)\n",
    "    #### Eq. 26 in https://aip.scitation.org/doi/abs/10.1063/1.47298 #################################################################################\n",
    "    dGain = 2*dampingRate\n",
    "    dmu = np.arange(1E-6,1E-5,5E-7)\n",
    "    supps = np.zeros_like(dmu)\n",
    "    for i in range(len(dmu)):\n",
    "        f = lambda x : (4*np.pi**2*(1-dGain/2)**2*x**2)*np.exp(-x**2/(2.0*dmu[i]**2))/((4*np.pi**2*(1-dGain/2)*x**2+(dGain/2)**2)*np.sqrt(2*np.pi)*dmu[i])\n",
    "        integral = quad(f,-10*dmu[i],10*dmu[i])\n",
    "        supps[i] = integral[0]\n",
    "    ##################################################################################################################################################\n",
    "\n",
    "    fig = plt.figure(1)\n",
    "    plt.plot(dmu*1E6,supps,'-b')\n",
    "    plt.xlabel(r'R.m.s. tune spread [$10^{-6}$]')\n",
    "    plt.ylabel(r'Emit. growth suppression factor')\n",
    "\n",
    "    plt.show()\n"
   ]
  },
  {
   "cell_type": "code",
   "execution_count": null,
   "metadata": {},
   "outputs": [],
   "source": []
  },
  {
   "cell_type": "code",
   "execution_count": null,
   "metadata": {},
   "outputs": [],
   "source": []
  }
 ],
 "metadata": {
  "kernelspec": {
   "display_name": "Python 3",
   "language": "python",
   "name": "python3"
  },
  "language_info": {
   "codemirror_mode": {
    "name": "ipython",
    "version": 3
   },
   "file_extension": ".py",
   "mimetype": "text/x-python",
   "name": "python",
   "nbconvert_exporter": "python",
   "pygments_lexer": "ipython3",
   "version": "3.7.3"
  }
 },
 "nbformat": 4,
 "nbformat_minor": 4
}
